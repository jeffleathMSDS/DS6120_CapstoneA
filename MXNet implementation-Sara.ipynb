{
 "cells": [
  {
   "cell_type": "markdown",
   "metadata": {},
   "source": [
    "# Libraries"
   ]
  },
  {
   "cell_type": "code",
   "execution_count": 4,
   "metadata": {},
   "outputs": [],
   "source": [
    "import boto3\n",
    "import pandas as pd\n",
    "from sagemaker import get_execution_role"
   ]
  },
  {
   "cell_type": "markdown",
   "metadata": {},
   "source": [
    "### * In this section, we are calling MXnet libraries"
   ]
  },
  {
   "cell_type": "code",
   "execution_count": 5,
   "metadata": {},
   "outputs": [],
   "source": [
    "\n",
    "from mxnet import nd, gluon, init, autograd\n",
    "from mxnet.gluon import nn\n",
    "from mxnet.gluon.data.vision import datasets, transforms\n",
    "from IPython import display\n",
    "import matplotlib.pyplot as plt\n",
    "import time\n",
    "import mxnet as mx"
   ]
  },
  {
   "cell_type": "code",
   "execution_count": 6,
   "metadata": {},
   "outputs": [
    {
     "ename": "ValueError",
     "evalue": "Must setup local AWS configuration with a region supported by SageMaker.",
     "output_type": "error",
     "traceback": [
      "\u001b[0;31m---------------------------------------------------------------------------\u001b[0m",
      "\u001b[0;31mValueError\u001b[0m                                Traceback (most recent call last)",
      "\u001b[0;32m<ipython-input-6-67f7b7ed9917>\u001b[0m in \u001b[0;36m<module>\u001b[0;34m\u001b[0m\n\u001b[0;32m----> 1\u001b[0;31m \u001b[0mrole\u001b[0m \u001b[0;34m=\u001b[0m \u001b[0mget_execution_role\u001b[0m\u001b[0;34m(\u001b[0m\u001b[0;34m)\u001b[0m\u001b[0;34m\u001b[0m\u001b[0;34m\u001b[0m\u001b[0m\n\u001b[0m\u001b[1;32m      2\u001b[0m \u001b[0mbucket\u001b[0m\u001b[0;34m=\u001b[0m\u001b[0;34m'david-sara-jeff'\u001b[0m\u001b[0;34m\u001b[0m\u001b[0;34m\u001b[0m\u001b[0m\n\u001b[1;32m      3\u001b[0m \u001b[0mdata_key\u001b[0m \u001b[0;34m=\u001b[0m \u001b[0;34m'train.csv'\u001b[0m\u001b[0;34m\u001b[0m\u001b[0;34m\u001b[0m\u001b[0m\n\u001b[1;32m      4\u001b[0m \u001b[0mdata_location\u001b[0m \u001b[0;34m=\u001b[0m \u001b[0;34m's3://{}/{}'\u001b[0m\u001b[0;34m.\u001b[0m\u001b[0mformat\u001b[0m\u001b[0;34m(\u001b[0m\u001b[0mbucket\u001b[0m\u001b[0;34m,\u001b[0m \u001b[0mdata_key\u001b[0m\u001b[0;34m)\u001b[0m\u001b[0;34m\u001b[0m\u001b[0;34m\u001b[0m\u001b[0m\n\u001b[1;32m      5\u001b[0m \u001b[0;34m\u001b[0m\u001b[0m\n",
      "\u001b[0;32m/anaconda3/lib/python3.7/site-packages/sagemaker/session.py\u001b[0m in \u001b[0;36mget_execution_role\u001b[0;34m(sagemaker_session)\u001b[0m\n\u001b[1;32m   3237\u001b[0m     \"\"\"\n\u001b[1;32m   3238\u001b[0m     \u001b[0;32mif\u001b[0m \u001b[0;32mnot\u001b[0m \u001b[0msagemaker_session\u001b[0m\u001b[0;34m:\u001b[0m\u001b[0;34m\u001b[0m\u001b[0;34m\u001b[0m\u001b[0m\n\u001b[0;32m-> 3239\u001b[0;31m         \u001b[0msagemaker_session\u001b[0m \u001b[0;34m=\u001b[0m \u001b[0mSession\u001b[0m\u001b[0;34m(\u001b[0m\u001b[0;34m)\u001b[0m\u001b[0;34m\u001b[0m\u001b[0;34m\u001b[0m\u001b[0m\n\u001b[0m\u001b[1;32m   3240\u001b[0m     \u001b[0marn\u001b[0m \u001b[0;34m=\u001b[0m \u001b[0msagemaker_session\u001b[0m\u001b[0;34m.\u001b[0m\u001b[0mget_caller_identity_arn\u001b[0m\u001b[0;34m(\u001b[0m\u001b[0;34m)\u001b[0m\u001b[0;34m\u001b[0m\u001b[0;34m\u001b[0m\u001b[0m\n\u001b[1;32m   3241\u001b[0m \u001b[0;34m\u001b[0m\u001b[0m\n",
      "\u001b[0;32m/anaconda3/lib/python3.7/site-packages/sagemaker/session.py\u001b[0m in \u001b[0;36m__init__\u001b[0;34m(self, boto_session, sagemaker_client, sagemaker_runtime_client)\u001b[0m\n\u001b[1;32m     98\u001b[0m         \u001b[0mself\u001b[0m\u001b[0;34m.\u001b[0m\u001b[0mconfig\u001b[0m \u001b[0;34m=\u001b[0m \u001b[0;32mNone\u001b[0m\u001b[0;34m\u001b[0m\u001b[0;34m\u001b[0m\u001b[0m\n\u001b[1;32m     99\u001b[0m \u001b[0;34m\u001b[0m\u001b[0m\n\u001b[0;32m--> 100\u001b[0;31m         \u001b[0mself\u001b[0m\u001b[0;34m.\u001b[0m\u001b[0m_initialize\u001b[0m\u001b[0;34m(\u001b[0m\u001b[0mboto_session\u001b[0m\u001b[0;34m,\u001b[0m \u001b[0msagemaker_client\u001b[0m\u001b[0;34m,\u001b[0m \u001b[0msagemaker_runtime_client\u001b[0m\u001b[0;34m)\u001b[0m\u001b[0;34m\u001b[0m\u001b[0;34m\u001b[0m\u001b[0m\n\u001b[0m\u001b[1;32m    101\u001b[0m \u001b[0;34m\u001b[0m\u001b[0m\n\u001b[1;32m    102\u001b[0m     \u001b[0;32mdef\u001b[0m \u001b[0m_initialize\u001b[0m\u001b[0;34m(\u001b[0m\u001b[0mself\u001b[0m\u001b[0;34m,\u001b[0m \u001b[0mboto_session\u001b[0m\u001b[0;34m,\u001b[0m \u001b[0msagemaker_client\u001b[0m\u001b[0;34m,\u001b[0m \u001b[0msagemaker_runtime_client\u001b[0m\u001b[0;34m)\u001b[0m\u001b[0;34m:\u001b[0m\u001b[0;34m\u001b[0m\u001b[0;34m\u001b[0m\u001b[0m\n",
      "\u001b[0;32m/anaconda3/lib/python3.7/site-packages/sagemaker/session.py\u001b[0m in \u001b[0;36m_initialize\u001b[0;34m(self, boto_session, sagemaker_client, sagemaker_runtime_client)\u001b[0m\n\u001b[1;32m    111\u001b[0m         \u001b[0;32mif\u001b[0m \u001b[0mself\u001b[0m\u001b[0;34m.\u001b[0m\u001b[0m_region_name\u001b[0m \u001b[0;32mis\u001b[0m \u001b[0;32mNone\u001b[0m\u001b[0;34m:\u001b[0m\u001b[0;34m\u001b[0m\u001b[0;34m\u001b[0m\u001b[0m\n\u001b[1;32m    112\u001b[0m             raise ValueError(\n\u001b[0;32m--> 113\u001b[0;31m                 \u001b[0;34m\"Must setup local AWS configuration with a region supported by SageMaker.\"\u001b[0m\u001b[0;34m\u001b[0m\u001b[0;34m\u001b[0m\u001b[0m\n\u001b[0m\u001b[1;32m    114\u001b[0m             )\n\u001b[1;32m    115\u001b[0m \u001b[0;34m\u001b[0m\u001b[0m\n",
      "\u001b[0;31mValueError\u001b[0m: Must setup local AWS configuration with a region supported by SageMaker."
     ]
    }
   ],
   "source": [
    "role = get_execution_role()\n",
    "bucket='david-sara-jeff'\n",
    "data_key = 'train.csv'\n",
    "data_location = 's3://{}/{}'.format(bucket, data_key)\n",
    "\n",
    "pd.read_csv(data_location)"
   ]
  },
  {
   "cell_type": "code",
   "execution_count": 11,
   "metadata": {},
   "outputs": [],
   "source": [
    "import pandas as pd\n",
    "import numpy as np\n",
    "from pandas import read_csv\n",
    "from pandas import datetime\n",
    "from matplotlib import pyplot as plt\n",
    "import matplotlib \n",
    "%matplotlib inline"
   ]
  },
  {
   "cell_type": "code",
   "execution_count": 12,
   "metadata": {},
   "outputs": [],
   "source": [
    "#StatsModel\n",
    "from statsmodels.tsa.arima_model import ARIMA\n",
    "from statsmodels.tsa.stattools import acf, pacf\n",
    "from statsmodels.tsa.seasonal import seasonal_decompose\n",
    "from statsmodels.tsa.stattools import adfuller"
   ]
  },
  {
   "cell_type": "code",
   "execution_count": 13,
   "metadata": {},
   "outputs": [
    {
     "name": "stderr",
     "output_type": "stream",
     "text": [
      "[nltk_data] Downloading package stopwords to\n",
      "[nltk_data]     /Users/eirajizad/nltk_data...\n",
      "[nltk_data]   Package stopwords is already up-to-date!\n",
      "[nltk_data] Downloading package punkt to /Users/eirajizad/nltk_data...\n",
      "[nltk_data]   Package punkt is already up-to-date!\n",
      "[nltk_data] Downloading package averaged_perceptron_tagger to\n",
      "[nltk_data]     /Users/eirajizad/nltk_data...\n",
      "[nltk_data]   Package averaged_perceptron_tagger is already up-to-\n",
      "[nltk_data]       date!\n",
      "[nltk_data] Downloading package wordnet to\n",
      "[nltk_data]     /Users/eirajizad/nltk_data...\n",
      "[nltk_data]   Package wordnet is already up-to-date!\n"
     ]
    },
    {
     "data": {
      "text/plain": [
       "True"
      ]
     },
     "execution_count": 13,
     "metadata": {},
     "output_type": "execute_result"
    }
   ],
   "source": [
    "#NLP\n",
    "from nltk.corpus import stopwords as sw\n",
    "from nltk.corpus import wordnet as wn\n",
    "from sklearn.preprocessing import Normalizer\n",
    "from pickle import load\n",
    "\n",
    "from nltk import wordpunct_tokenize\n",
    "from nltk.stem import WordNetLemmatizer\n",
    "from nltk import sent_tokenize\n",
    "from nltk import pos_tag\n",
    "from sklearn.base import BaseEstimator,TransformerMixin\n",
    "\n",
    "import nltk\n",
    "nltk.download('stopwords')\n",
    "nltk.download('punkt')\n",
    "nltk.download('averaged_perceptron_tagger')\n",
    "nltk.download('wordnet')"
   ]
  },
  {
   "cell_type": "code",
   "execution_count": 14,
   "metadata": {},
   "outputs": [],
   "source": [
    "from time import time\n",
    "import matplotlib.pyplot as plt\n",
    "import sklearn\n",
    "from sklearn.model_selection import ShuffleSplit, train_test_split\n",
    "from sklearn.feature_selection import SelectKBest, chi2\n",
    "from sklearn.linear_model import RidgeClassifier\n",
    "from sklearn.svm import LinearSVC\n",
    "from sklearn.linear_model import SGDClassifier\n",
    "from sklearn.linear_model import Perceptron\n",
    "from sklearn.linear_model import PassiveAggressiveClassifier\n",
    "from sklearn.naive_bayes import BernoulliNB, MultinomialNB\n",
    "from sklearn.neighbors import KNeighborsClassifier\n",
    "from sklearn.neighbors import NearestCentroid\n",
    "from sklearn.ensemble import RandomForestClassifier\n",
    "from sklearn.utils.extmath import density\n",
    "from sklearn import metrics\n",
    "import numpy as np\n",
    "import pandas as pd\n",
    "from sklearn import model_selection\n",
    "from sklearn.ensemble import RandomForestClassifier\n",
    "from sklearn.pipeline import Pipeline\n",
    "from sklearn.feature_extraction.text import TfidfVectorizer\n",
    "import string\n",
    "from nltk.corpus import stopwords as sw\n",
    "from nltk.corpus import wordnet as wn\n",
    "from sklearn.preprocessing import Normalizer\n",
    "from pickle import load\n",
    "\n",
    "from nltk import wordpunct_tokenize\n",
    "from nltk.stem import WordNetLemmatizer\n",
    "from nltk import sent_tokenize\n",
    "from nltk import pos_tag\n",
    "from sklearn.base import BaseEstimator,TransformerMixin"
   ]
  },
  {
   "cell_type": "code",
   "execution_count": 15,
   "metadata": {},
   "outputs": [
    {
     "ename": "NameError",
     "evalue": "name 'data_location' is not defined",
     "output_type": "error",
     "traceback": [
      "\u001b[0;31m---------------------------------------------------------------------------\u001b[0m",
      "\u001b[0;31mNameError\u001b[0m                                 Traceback (most recent call last)",
      "\u001b[0;32m<ipython-input-15-587029441eaf>\u001b[0m in \u001b[0;36m<module>\u001b[0;34m\u001b[0m\n\u001b[0;32m----> 1\u001b[0;31m \u001b[0mdf\u001b[0m \u001b[0;34m=\u001b[0m \u001b[0mpd\u001b[0m\u001b[0;34m.\u001b[0m\u001b[0mread_csv\u001b[0m\u001b[0;34m(\u001b[0m\u001b[0mdata_location\u001b[0m\u001b[0;34m)\u001b[0m\u001b[0;34m\u001b[0m\u001b[0;34m\u001b[0m\u001b[0m\n\u001b[0m",
      "\u001b[0;31mNameError\u001b[0m: name 'data_location' is not defined"
     ]
    }
   ],
   "source": [
    "df = pd.read_csv(data_location)"
   ]
  },
  {
   "cell_type": "code",
   "execution_count": 8,
   "metadata": {},
   "outputs": [
    {
     "data": {
      "text/html": [
       "<div>\n",
       "<style scoped>\n",
       "    .dataframe tbody tr th:only-of-type {\n",
       "        vertical-align: middle;\n",
       "    }\n",
       "\n",
       "    .dataframe tbody tr th {\n",
       "        vertical-align: top;\n",
       "    }\n",
       "\n",
       "    .dataframe thead th {\n",
       "        text-align: right;\n",
       "    }\n",
       "</style>\n",
       "<table border=\"1\" class=\"dataframe\">\n",
       "  <thead>\n",
       "    <tr style=\"text-align: right;\">\n",
       "      <th></th>\n",
       "      <th>id</th>\n",
       "      <th>comment_text</th>\n",
       "      <th>toxic</th>\n",
       "      <th>severe_toxic</th>\n",
       "      <th>obscene</th>\n",
       "      <th>threat</th>\n",
       "      <th>insult</th>\n",
       "      <th>identity_hate</th>\n",
       "    </tr>\n",
       "  </thead>\n",
       "  <tbody>\n",
       "    <tr>\n",
       "      <th>0</th>\n",
       "      <td>0000997932d777bf</td>\n",
       "      <td>Explanation\\nWhy the edits made under my usern...</td>\n",
       "      <td>0</td>\n",
       "      <td>0</td>\n",
       "      <td>0</td>\n",
       "      <td>0</td>\n",
       "      <td>0</td>\n",
       "      <td>0</td>\n",
       "    </tr>\n",
       "    <tr>\n",
       "      <th>1</th>\n",
       "      <td>000103f0d9cfb60f</td>\n",
       "      <td>D'aww! He matches this background colour I'm s...</td>\n",
       "      <td>0</td>\n",
       "      <td>0</td>\n",
       "      <td>0</td>\n",
       "      <td>0</td>\n",
       "      <td>0</td>\n",
       "      <td>0</td>\n",
       "    </tr>\n",
       "    <tr>\n",
       "      <th>2</th>\n",
       "      <td>000113f07ec002fd</td>\n",
       "      <td>Hey man, I'm really not trying to edit war. It...</td>\n",
       "      <td>0</td>\n",
       "      <td>0</td>\n",
       "      <td>0</td>\n",
       "      <td>0</td>\n",
       "      <td>0</td>\n",
       "      <td>0</td>\n",
       "    </tr>\n",
       "    <tr>\n",
       "      <th>3</th>\n",
       "      <td>0001b41b1c6bb37e</td>\n",
       "      <td>\"\\nMore\\nI can't make any real suggestions on ...</td>\n",
       "      <td>0</td>\n",
       "      <td>0</td>\n",
       "      <td>0</td>\n",
       "      <td>0</td>\n",
       "      <td>0</td>\n",
       "      <td>0</td>\n",
       "    </tr>\n",
       "    <tr>\n",
       "      <th>4</th>\n",
       "      <td>0001d958c54c6e35</td>\n",
       "      <td>You, sir, are my hero. Any chance you remember...</td>\n",
       "      <td>0</td>\n",
       "      <td>0</td>\n",
       "      <td>0</td>\n",
       "      <td>0</td>\n",
       "      <td>0</td>\n",
       "      <td>0</td>\n",
       "    </tr>\n",
       "  </tbody>\n",
       "</table>\n",
       "</div>"
      ],
      "text/plain": [
       "                 id                                       comment_text  toxic  \\\n",
       "0  0000997932d777bf  Explanation\\nWhy the edits made under my usern...      0   \n",
       "1  000103f0d9cfb60f  D'aww! He matches this background colour I'm s...      0   \n",
       "2  000113f07ec002fd  Hey man, I'm really not trying to edit war. It...      0   \n",
       "3  0001b41b1c6bb37e  \"\\nMore\\nI can't make any real suggestions on ...      0   \n",
       "4  0001d958c54c6e35  You, sir, are my hero. Any chance you remember...      0   \n",
       "\n",
       "   severe_toxic  obscene  threat  insult  identity_hate  \n",
       "0             0        0       0       0              0  \n",
       "1             0        0       0       0              0  \n",
       "2             0        0       0       0              0  \n",
       "3             0        0       0       0              0  \n",
       "4             0        0       0       0              0  "
      ]
     },
     "execution_count": 8,
     "metadata": {},
     "output_type": "execute_result"
    }
   ],
   "source": [
    "df.head()"
   ]
  },
  {
   "cell_type": "code",
   "execution_count": 9,
   "metadata": {},
   "outputs": [
    {
     "name": "stdout",
     "output_type": "stream",
     "text": [
      "number of rows: 159571\n",
      "number of columns: 8\n"
     ]
    }
   ],
   "source": [
    "# check the structure\n",
    "\n",
    "print(\"number of rows: {0}\".format(df.shape[0]))\n",
    "print(\"number of columns: {0}\".format(df.shape[1]))"
   ]
  },
  {
   "cell_type": "code",
   "execution_count": 10,
   "metadata": {},
   "outputs": [
    {
     "name": "stdout",
     "output_type": "stream",
     "text": [
      "<class 'pandas.core.frame.DataFrame'>\n",
      "RangeIndex: 159571 entries, 0 to 159570\n",
      "Data columns (total 8 columns):\n",
      "id               159571 non-null object\n",
      "comment_text     159571 non-null object\n",
      "toxic            159571 non-null int64\n",
      "severe_toxic     159571 non-null int64\n",
      "obscene          159571 non-null int64\n",
      "threat           159571 non-null int64\n",
      "insult           159571 non-null int64\n",
      "identity_hate    159571 non-null int64\n",
      "dtypes: int64(6), object(2)\n",
      "memory usage: 9.7+ MB\n"
     ]
    }
   ],
   "source": [
    "# Check the structure\n",
    "df.info()"
   ]
  },
  {
   "cell_type": "code",
   "execution_count": 11,
   "metadata": {},
   "outputs": [
    {
     "data": {
      "text/html": [
       "<div>\n",
       "<style scoped>\n",
       "    .dataframe tbody tr th:only-of-type {\n",
       "        vertical-align: middle;\n",
       "    }\n",
       "\n",
       "    .dataframe tbody tr th {\n",
       "        vertical-align: top;\n",
       "    }\n",
       "\n",
       "    .dataframe thead th {\n",
       "        text-align: right;\n",
       "    }\n",
       "</style>\n",
       "<table border=\"1\" class=\"dataframe\">\n",
       "  <thead>\n",
       "    <tr style=\"text-align: right;\">\n",
       "      <th></th>\n",
       "      <th>count</th>\n",
       "      <th>mean</th>\n",
       "      <th>std</th>\n",
       "      <th>min</th>\n",
       "      <th>25%</th>\n",
       "      <th>50%</th>\n",
       "      <th>75%</th>\n",
       "      <th>max</th>\n",
       "    </tr>\n",
       "  </thead>\n",
       "  <tbody>\n",
       "    <tr>\n",
       "      <th>toxic</th>\n",
       "      <td>159571.0</td>\n",
       "      <td>0.095844</td>\n",
       "      <td>0.294379</td>\n",
       "      <td>0.0</td>\n",
       "      <td>0.0</td>\n",
       "      <td>0.0</td>\n",
       "      <td>0.0</td>\n",
       "      <td>1.0</td>\n",
       "    </tr>\n",
       "    <tr>\n",
       "      <th>severe_toxic</th>\n",
       "      <td>159571.0</td>\n",
       "      <td>0.009996</td>\n",
       "      <td>0.099477</td>\n",
       "      <td>0.0</td>\n",
       "      <td>0.0</td>\n",
       "      <td>0.0</td>\n",
       "      <td>0.0</td>\n",
       "      <td>1.0</td>\n",
       "    </tr>\n",
       "    <tr>\n",
       "      <th>obscene</th>\n",
       "      <td>159571.0</td>\n",
       "      <td>0.052948</td>\n",
       "      <td>0.223931</td>\n",
       "      <td>0.0</td>\n",
       "      <td>0.0</td>\n",
       "      <td>0.0</td>\n",
       "      <td>0.0</td>\n",
       "      <td>1.0</td>\n",
       "    </tr>\n",
       "    <tr>\n",
       "      <th>threat</th>\n",
       "      <td>159571.0</td>\n",
       "      <td>0.002996</td>\n",
       "      <td>0.054650</td>\n",
       "      <td>0.0</td>\n",
       "      <td>0.0</td>\n",
       "      <td>0.0</td>\n",
       "      <td>0.0</td>\n",
       "      <td>1.0</td>\n",
       "    </tr>\n",
       "    <tr>\n",
       "      <th>insult</th>\n",
       "      <td>159571.0</td>\n",
       "      <td>0.049364</td>\n",
       "      <td>0.216627</td>\n",
       "      <td>0.0</td>\n",
       "      <td>0.0</td>\n",
       "      <td>0.0</td>\n",
       "      <td>0.0</td>\n",
       "      <td>1.0</td>\n",
       "    </tr>\n",
       "    <tr>\n",
       "      <th>identity_hate</th>\n",
       "      <td>159571.0</td>\n",
       "      <td>0.008805</td>\n",
       "      <td>0.093420</td>\n",
       "      <td>0.0</td>\n",
       "      <td>0.0</td>\n",
       "      <td>0.0</td>\n",
       "      <td>0.0</td>\n",
       "      <td>1.0</td>\n",
       "    </tr>\n",
       "  </tbody>\n",
       "</table>\n",
       "</div>"
      ],
      "text/plain": [
       "                  count      mean       std  min  25%  50%  75%  max\n",
       "toxic          159571.0  0.095844  0.294379  0.0  0.0  0.0  0.0  1.0\n",
       "severe_toxic   159571.0  0.009996  0.099477  0.0  0.0  0.0  0.0  1.0\n",
       "obscene        159571.0  0.052948  0.223931  0.0  0.0  0.0  0.0  1.0\n",
       "threat         159571.0  0.002996  0.054650  0.0  0.0  0.0  0.0  1.0\n",
       "insult         159571.0  0.049364  0.216627  0.0  0.0  0.0  0.0  1.0\n",
       "identity_hate  159571.0  0.008805  0.093420  0.0  0.0  0.0  0.0  1.0"
      ]
     },
     "execution_count": 11,
     "metadata": {},
     "output_type": "execute_result"
    }
   ],
   "source": [
    "# check the structure\n",
    "df.describe().T"
   ]
  },
  {
   "cell_type": "code",
   "execution_count": 12,
   "metadata": {},
   "outputs": [],
   "source": [
    "# add temp field for aggregation of toxic flags\n",
    "df['temp1'] = df['toxic'] + df['severe_toxic'] + df['obscene'] + df['threat'] + df ['insult'] + df['identity_hate']\n",
    "\n",
    "# add isToxic feature\n",
    "df['istoxic'] = np.where(df['temp1'] ==0,0,1)\n",
    "\n",
    "#drop unneccessary columns\n",
    "\n",
    "df = df.drop(columns=['toxic','severe_toxic','obscene','threat','insult','identity_hate', 'temp1'], axis=1)"
   ]
  },
  {
   "cell_type": "code",
   "execution_count": 13,
   "metadata": {},
   "outputs": [
    {
     "data": {
      "text/html": [
       "<div>\n",
       "<style scoped>\n",
       "    .dataframe tbody tr th:only-of-type {\n",
       "        vertical-align: middle;\n",
       "    }\n",
       "\n",
       "    .dataframe tbody tr th {\n",
       "        vertical-align: top;\n",
       "    }\n",
       "\n",
       "    .dataframe thead th {\n",
       "        text-align: right;\n",
       "    }\n",
       "</style>\n",
       "<table border=\"1\" class=\"dataframe\">\n",
       "  <thead>\n",
       "    <tr style=\"text-align: right;\">\n",
       "      <th></th>\n",
       "      <th>id</th>\n",
       "      <th>comment_text</th>\n",
       "      <th>istoxic</th>\n",
       "    </tr>\n",
       "  </thead>\n",
       "  <tbody>\n",
       "    <tr>\n",
       "      <th>0</th>\n",
       "      <td>0000997932d777bf</td>\n",
       "      <td>Explanation\\nWhy the edits made under my usern...</td>\n",
       "      <td>0</td>\n",
       "    </tr>\n",
       "    <tr>\n",
       "      <th>1</th>\n",
       "      <td>000103f0d9cfb60f</td>\n",
       "      <td>D'aww! He matches this background colour I'm s...</td>\n",
       "      <td>0</td>\n",
       "    </tr>\n",
       "    <tr>\n",
       "      <th>2</th>\n",
       "      <td>000113f07ec002fd</td>\n",
       "      <td>Hey man, I'm really not trying to edit war. It...</td>\n",
       "      <td>0</td>\n",
       "    </tr>\n",
       "    <tr>\n",
       "      <th>3</th>\n",
       "      <td>0001b41b1c6bb37e</td>\n",
       "      <td>\"\\nMore\\nI can't make any real suggestions on ...</td>\n",
       "      <td>0</td>\n",
       "    </tr>\n",
       "    <tr>\n",
       "      <th>4</th>\n",
       "      <td>0001d958c54c6e35</td>\n",
       "      <td>You, sir, are my hero. Any chance you remember...</td>\n",
       "      <td>0</td>\n",
       "    </tr>\n",
       "  </tbody>\n",
       "</table>\n",
       "</div>"
      ],
      "text/plain": [
       "                 id                                       comment_text  \\\n",
       "0  0000997932d777bf  Explanation\\nWhy the edits made under my usern...   \n",
       "1  000103f0d9cfb60f  D'aww! He matches this background colour I'm s...   \n",
       "2  000113f07ec002fd  Hey man, I'm really not trying to edit war. It...   \n",
       "3  0001b41b1c6bb37e  \"\\nMore\\nI can't make any real suggestions on ...   \n",
       "4  0001d958c54c6e35  You, sir, are my hero. Any chance you remember...   \n",
       "\n",
       "   istoxic  \n",
       "0        0  \n",
       "1        0  \n",
       "2        0  \n",
       "3        0  \n",
       "4        0  "
      ]
     },
     "execution_count": 13,
     "metadata": {},
     "output_type": "execute_result"
    }
   ],
   "source": [
    "df.head()"
   ]
  },
  {
   "cell_type": "code",
   "execution_count": 14,
   "metadata": {},
   "outputs": [
    {
     "data": {
      "text/html": [
       "<div>\n",
       "<style scoped>\n",
       "    .dataframe tbody tr th:only-of-type {\n",
       "        vertical-align: middle;\n",
       "    }\n",
       "\n",
       "    .dataframe tbody tr th {\n",
       "        vertical-align: top;\n",
       "    }\n",
       "\n",
       "    .dataframe thead th {\n",
       "        text-align: right;\n",
       "    }\n",
       "</style>\n",
       "<table border=\"1\" class=\"dataframe\">\n",
       "  <thead>\n",
       "    <tr style=\"text-align: right;\">\n",
       "      <th></th>\n",
       "      <th>count</th>\n",
       "      <th>mean</th>\n",
       "      <th>std</th>\n",
       "      <th>min</th>\n",
       "      <th>25%</th>\n",
       "      <th>50%</th>\n",
       "      <th>75%</th>\n",
       "      <th>max</th>\n",
       "    </tr>\n",
       "  </thead>\n",
       "  <tbody>\n",
       "    <tr>\n",
       "      <th>istoxic</th>\n",
       "      <td>159571.0</td>\n",
       "      <td>0.101679</td>\n",
       "      <td>0.302226</td>\n",
       "      <td>0.0</td>\n",
       "      <td>0.0</td>\n",
       "      <td>0.0</td>\n",
       "      <td>0.0</td>\n",
       "      <td>1.0</td>\n",
       "    </tr>\n",
       "  </tbody>\n",
       "</table>\n",
       "</div>"
      ],
      "text/plain": [
       "            count      mean       std  min  25%  50%  75%  max\n",
       "istoxic  159571.0  0.101679  0.302226  0.0  0.0  0.0  0.0  1.0"
      ]
     },
     "execution_count": 14,
     "metadata": {},
     "output_type": "execute_result"
    }
   ],
   "source": [
    "df.describe().T"
   ]
  },
  {
   "cell_type": "code",
   "execution_count": 15,
   "metadata": {},
   "outputs": [
    {
     "data": {
      "text/plain": [
       "istoxic\n",
       "0    143346\n",
       "1     16225\n",
       "Name: istoxic, dtype: int64"
      ]
     },
     "execution_count": 15,
     "metadata": {},
     "output_type": "execute_result"
    }
   ],
   "source": [
    "# Check valid unique values per column\n",
    "df.groupby('istoxic')['istoxic'].count().sort_values(ascending=False)"
   ]
  },
  {
   "cell_type": "code",
   "execution_count": 16,
   "metadata": {},
   "outputs": [],
   "source": [
    "class NLTKPreprocesor(BaseEstimator,TransformerMixin):\n",
    "    # here, we are defining the initial condition of the calss\n",
    "    def __init__(self,stopwords = None,punct = None,lower = True,strip=True):\n",
    "        self.lower = lower\n",
    "        self.strip = strip\n",
    "        self.stopwords = stopwords or set(sw.words('english'))\n",
    "        self.punct = punct or set(string.punctuation)\n",
    "        self.lemmatizer = WordNetLemmatizer()\n",
    "#        self.contractions = load(open('contractions.pickle','rb'))\n",
    "\n",
    "    def fit(self,X,y=None):\n",
    "        return self\n",
    "\n",
    "    def inverse_transform(self,X):\n",
    "        pass\n",
    "\n",
    "    def transform(self,X):\n",
    "        return [list(self.tokenize(doc)) for doc in X]\n",
    "    \n",
    "    # This is the funciton that break (text) into individual linguistic units.\n",
    "    def tokenize(self,sDocument):\n",
    "        document=sDocument\n",
    "#        doc.strip(\" \")\n",
    "        for sent in sent_tokenize(document):\n",
    "            for token,tag in pos_tag(wordpunct_tokenize(sent)):\n",
    "                token = token.lower() if self.lower else token\n",
    "                token = token.strip() if self.strip else token\n",
    "                token = token.strip('_') if self.strip else token\n",
    "                token = token.strip('*') if self.strip else token\n",
    "                token = token.strip('#') if self.strip else token\n",
    "\n",
    "                if token in self.stopwords:\n",
    "                    continue\n",
    "\n",
    "                if all(char in self.punct for char in token):\n",
    "                    continue\n",
    "\n",
    "                if len(token) <= 0:\n",
    "                    continue\n",
    "\n",
    "                lemma = self.lemmatize(token,tag)\n",
    "                yield lemma\n",
    "\n",
    "    def lemmatize(self,token,tag):\n",
    "        tag ={\n",
    "            'N' : wn.NOUN,\n",
    "            'V' : wn.VERB,\n",
    "            'R' : wn.ADV,\n",
    "            'J' : wn.ADJ\n",
    "        }.get(tag[0],wn.NOUN)\n",
    "        return self.lemmatizer.lemmatize(token,tag)\n",
    "\n",
    "\n",
    "def prepare_data(X,X_t):\n",
    "    preProcess = Pipeline([\n",
    "        ('NLTKpreprocess', NLTKPreprocesor()),\n",
    "        ('vectorizer', TfidfVectorizer(\n",
    "            max_df=0.90,\n",
    "            max_features=5000,\n",
    "            encoding='latin1',\n",
    "            tokenizer=lambda x: x,\n",
    "            preprocessor=None, lowercase=False))\n",
    "    ])\n",
    "    x_train = np.asanyarray(preProcess.fit_transform(X.values).todense())\n",
    "#    x_valid = np.asanyarray(preProcess.fit_transform(X_v.values).todense())    \n",
    "    x_test = np.asanyarray(preProcess.transform(X_t.values).todense())\n",
    "\n",
    "    return x_train,x_test,preProcess\n",
    "\n",
    "\n",
    "def trim(s):\n",
    "    \"\"\"Trim string to fit on terminal (assuming 80-column display)\"\"\"\n",
    "    return s if len(s) <= 80 else s[:77] + \"...\""
   ]
  },
  {
   "cell_type": "code",
   "execution_count": 17,
   "metadata": {},
   "outputs": [],
   "source": [
    "if __name__ == '__main__':\n",
    "    data = pd.read_csv(data_location, dtype=str) ## reading the data from csv file ## \n",
    "    clf = NLTKPreprocesor()\n",
    "    procData = clf.transform(data.loc[:, 'comment_text']) ## preprocessing the comments ##"
   ]
  },
  {
   "cell_type": "code",
   "execution_count": 18,
   "metadata": {},
   "outputs": [
    {
     "name": "stdout",
     "output_type": "stream",
     "text": [
      "(159571,)\n",
      "(159571,)\n"
     ]
    }
   ],
   "source": [
    "pData=np.asarray(procData)\n",
    "print(pData.shape[:])\n",
    "print(data.loc[:,'toxic'].shape[:])"
   ]
  },
  {
   "cell_type": "code",
   "execution_count": 19,
   "metadata": {},
   "outputs": [],
   "source": [
    "list_classes = [\"toxic\", \"severe_toxic\", \"obscene\", \"threat\", \"insult\", \"identity_hate\"]\n",
    "X_train, X_test, y_train, y_test=train_test_split(pData, data.loc[:,'toxic'], shuffle=False, test_size=0.1)\n",
    "#trainData=data.loc[:int(Length*0.8),'comment_text'] ## Training Data\n",
    "#validData=data.loc[int(Length*0.8):int(Length*0.9),'comment_text'] ## Validation data \n",
    "#tvData=data.loc[:int(Length*0.9),'comment_text'] ## Validation data \n",
    "#testData=data.loc[int(Length*0.9):,'comment_text'] ## testing data"
   ]
  },
  {
   "cell_type": "code",
   "execution_count": 20,
   "metadata": {},
   "outputs": [],
   "source": [
    "toxicX_train=[]\n",
    "NonToxic_train=[]\n",
    "for i,comment in enumerate(X_train):\n",
    "    if int(y_train[i])==1:\n",
    "        toxicX_train.append(comment)\n",
    "    else:\n",
    "        NonToxic_train.append(comment)"
   ]
  },
  {
   "cell_type": "code",
   "execution_count": 21,
   "metadata": {},
   "outputs": [
    {
     "data": {
      "image/png": "[encoded data removed]",
      "text/plain": [
       "<Figure size 432x288 with 1 Axes>"
      ]
     },
     "metadata": {},
     "output_type": "display_data"
    }
   ],
   "source": [
    "totalNumWords = [len(one_comment) for one_comment in X_train]\n",
    "plt.hist(totalNumWords,bins = np.arange(0,410,10))#[0,50,100,150,200,250,300,350,400])#,450,500,550,600,650,700,750,800,850,900])\n",
    "plt.title(\"Length Histogram\")\n",
    "plt.xlabel(\"Number of Words in a comment\")\n",
    "plt.ylabel(\"Frequency\")\n",
    "plt.show()"
   ]
  },
  {
   "cell_type": "code",
   "execution_count": 22,
   "metadata": {},
   "outputs": [
    {
     "data": {
      "image/png": "[encoded data removed]",
      "text/plain": [
       "<Figure size 432x288 with 1 Axes>"
      ]
     },
     "metadata": {},
     "output_type": "display_data"
    }
   ],
   "source": [
    "plt.clf()\n",
    "ToxicNumWords = [len(one_comment) for one_comment in toxicX_train]\n",
    "plt.hist(ToxicNumWords,bins = np.arange(0,410,10))#[0,50,100,150,200,250,300,350,400])#,450,500,550,600,650,700,750,800,850,900])\n",
    "plt.title(\"Length histogram of Toxic Comments\")\n",
    "plt.xlabel(\"Number of Words in a comment\")\n",
    "plt.ylabel(\"Frequency\")\n",
    "plt.show()"
   ]
  },
  {
   "cell_type": "code",
   "execution_count": 23,
   "metadata": {},
   "outputs": [
    {
     "data": {
      "image/png": "[encoded data removed]",
      "text/plain": [
       "<Figure size 432x288 with 1 Axes>"
      ]
     },
     "metadata": {},
     "output_type": "display_data"
    }
   ],
   "source": [
    "plt.clf()\n",
    "NonToxicNumWords = [len(one_comment) for one_comment in NonToxic_train]\n",
    "plt.hist(NonToxicNumWords,bins = np.arange(0,410,10))#[0,50,100,150,200,250,300,350,400])#,450,500,550,600,650,700,750,800,850,900])\n",
    "plt.xlabel(\"Number of Words in a comment\")\n",
    "plt.title(\"Length histogram of Non-Toxic Comments\")\n",
    "plt.ylabel(\"Frequency\")\n",
    "plt.show()"
   ]
  },
  {
   "cell_type": "code",
   "execution_count": 24,
   "metadata": {},
   "outputs": [
    {
     "name": "stdout",
     "output_type": "stream",
     "text": [
      "4775000\n"
     ]
    }
   ],
   "source": [
    "print (np.asarray(NonToxicNumWords).sum())\n",
    "ntoxic_text_train=[]\n",
    "for x in NonToxic_train:\n",
    "    x=' '.join(x)\n",
    "    ntoxic_text_train.append(x.encode('utf-8'))\n",
    "\n",
    "ntoxic_text_train=np.asarray(ntoxic_text_train)"
   ]
  },
  {
   "cell_type": "code",
   "execution_count": 25,
   "metadata": {},
   "outputs": [
    {
     "name": "stdout",
     "output_type": "stream",
     "text": [
      "397084\n"
     ]
    }
   ],
   "source": [
    "print(np.asarray(ToxicNumWords).sum())\n",
    "toxic_text_train=[]\n",
    "for x in toxicX_train:\n",
    "    x=' '.join(x)\n",
    "    toxic_text_train.append(x.encode('utf-8'))\n",
    "\n",
    "toxic_text_train=np.asarray(toxic_text_train)\n"
   ]
  },
  {
   "cell_type": "code",
   "execution_count": 26,
   "metadata": {},
   "outputs": [
    {
     "name": "stdout",
     "output_type": "stream",
     "text": [
      "5172084\n"
     ]
    }
   ],
   "source": [
    "print(np.asarray(totalNumWords).sum())\n",
    "text_train=[]\n",
    "for x in X_train:\n",
    "    x=' '.join(x)\n",
    "    text_train.append(x.encode('utf-8'))\n",
    "\n",
    "text_test=[]\n",
    "for x in X_test:\n",
    "    x=' '.join(x)\n",
    "    text_test.append(x.encode('utf-8'))\n",
    "text_train=np.asarray(text_train)\n",
    "text_test=np.asarray(text_test)"
   ]
  },
  {
   "cell_type": "code",
   "execution_count": 27,
   "metadata": {},
   "outputs": [
    {
     "data": {
      "image/png": "[encoded data removed]",
      "text/plain": [
       "<Figure size 432x288 with 1 Axes>"
      ]
     },
     "metadata": {},
     "output_type": "display_data"
    }
   ],
   "source": [
    "import matplotlib.pyplot as plt\n",
    " \n",
    "# Data to plot\n",
    "labels ='Non-Toxic', 'Toxic'\n",
    "#title=\"Imbalanced classes\"\n",
    "sizes = [4774994, 397084]\n",
    "colors = ['gold', 'lightskyblue']#, 'lightcoral', 'lightskyblue']\n",
    "explode = (0.1, 0)  # explode 1st slice\n",
    " \n",
    "# Plot\n",
    "plt.pie(sizes, explode=explode, labels=labels, colors=colors,\n",
    "        autopct='%1.1f%%', shadow=True, startangle=140)\n",
    " \n",
    "plt.axis('equal')\n",
    "plt.show()"
   ]
  },
  {
   "cell_type": "code",
   "execution_count": 28,
   "metadata": {},
   "outputs": [
    {
     "name": "stdout",
     "output_type": "stream",
     "text": [
      "Collecting pip\n",
      "\u001b[?25l  Downloading https://files.pythonhosted.org/packages/00/b6/9cfa56b4081ad13874b0c6f96af8ce16cfbc1cb06bedf8e9164ce5551ec1/pip-19.3.1-py2.py3-none-any.whl (1.4MB)\n",
      "\u001b[K    100% |████████████████████████████████| 1.4MB 22.9MB/s ta 0:00:01\n",
      "\u001b[?25hInstalling collected packages: pip\n",
      "  Found existing installation: pip 10.0.1\n",
      "    Uninstalling pip-10.0.1:\n",
      "      Successfully uninstalled pip-10.0.1\n",
      "Successfully installed pip-19.3.1\n"
     ]
    }
   ],
   "source": [
    "!pip install --upgrade pip"
   ]
  },
  {
   "cell_type": "code",
   "execution_count": 29,
   "metadata": {},
   "outputs": [
    {
     "name": "stdout",
     "output_type": "stream",
     "text": [
      "Collecting keras\n",
      "\u001b[?25l  Downloading https://files.pythonhosted.org/packages/ad/fd/6bfe87920d7f4fd475acd28500a42482b6b84479832bdc0fe9e589a60ceb/Keras-2.3.1-py2.py3-none-any.whl (377kB)\n",
      "\u001b[K     |████████████████████████████████| 378kB 35.5MB/s eta 0:00:01\n",
      "\u001b[?25hRequirement already satisfied: keras-preprocessing>=1.0.5 in /home/ec2-user/anaconda3/envs/amazonei_tensorflow_p36/lib/python3.6/site-packages (from keras) (1.1.0)\n",
      "Requirement already satisfied: keras-applications>=1.0.6 in /home/ec2-user/anaconda3/envs/amazonei_tensorflow_p36/lib/python3.6/site-packages (from keras) (1.0.8)\n",
      "Requirement already satisfied: pyyaml in /home/ec2-user/anaconda3/envs/amazonei_tensorflow_p36/lib/python3.6/site-packages (from keras) (3.12)\n",
      "Requirement already satisfied: h5py in /home/ec2-user/anaconda3/envs/amazonei_tensorflow_p36/lib/python3.6/site-packages (from keras) (2.8.0)\n",
      "Requirement already satisfied: six>=1.9.0 in /home/ec2-user/anaconda3/envs/amazonei_tensorflow_p36/lib/python3.6/site-packages (from keras) (1.11.0)\n",
      "Requirement already satisfied: scipy>=0.14 in /home/ec2-user/anaconda3/envs/amazonei_tensorflow_p36/lib/python3.6/site-packages (from keras) (1.1.0)\n",
      "Requirement already satisfied: numpy>=1.9.1 in /home/ec2-user/anaconda3/envs/amazonei_tensorflow_p36/lib/python3.6/site-packages (from keras) (1.14.3)\n",
      "Installing collected packages: keras\n",
      "Successfully installed keras-2.3.1\n"
     ]
    }
   ],
   "source": [
    "!pip install keras"
   ]
  },
  {
   "cell_type": "code",
   "execution_count": 30,
   "metadata": {},
   "outputs": [
    {
     "name": "stderr",
     "output_type": "stream",
     "text": [
      "Using TensorFlow backend.\n"
     ]
    }
   ],
   "source": [
    "from keras.preprocessing.text import Tokenizer\n",
    "# Any results you write \n",
    "\n",
    "from keras.layers import Input, Dense\n",
    "from keras.models import Model\n",
    "from keras.layers import Flatten\n",
    "from keras.layers.embeddings import Embedding\n",
    "from keras.layers import LSTM\n",
    "from keras.layers import GlobalMaxPool1D\n",
    "from keras.layers import Dropout\n",
    "from keras.preprocessing.sequence import pad_sequences\n",
    "from keras.callbacks import ModelCheckpoint\n",
    "\n",
    "max_features = 20000\n",
    "tokenizer = Tokenizer(num_words=max_features)\n",
    "list_text_train=[]\n",
    "L=np.asarray(text_train).tolist()\n",
    "for i in range(len(L)):\n",
    "    list_text_train.append(str(L[i]))\n",
    "    \n",
    "tokenizer.fit_on_texts(list_text_train)"
   ]
  },
  {
   "cell_type": "code",
   "execution_count": 31,
   "metadata": {},
   "outputs": [
    {
     "data": {
      "text/plain": [
       "'2.3.1'"
      ]
     },
     "execution_count": 31,
     "metadata": {},
     "output_type": "execute_result"
    }
   ],
   "source": [
    "import keras\n",
    "keras.__version__"
   ]
  },
  {
   "cell_type": "code",
   "execution_count": 32,
   "metadata": {},
   "outputs": [
    {
     "name": "stdout",
     "output_type": "stream",
     "text": [
      "Popular words in non-labeled Comments\n",
      "192921\n",
      "('article', 64071)\n",
      "('page', 49322)\n",
      "('wikipedia', 41866)\n",
      "('use', 29122)\n",
      "('talk', 28721)\n",
      "('xe2', 27586)\n",
      "('one', 26770)\n",
      "('make', 26756)\n",
      "('would', 25639)\n",
      "('like', 25188)\n",
      "('edit', 24562)\n",
      "('x80', 23781)\n",
      "('please', 23433)\n",
      "('see', 21872)\n",
      "('say', 21817)\n",
      "('think', 20376)\n",
      "('know', 20330)\n",
      "('source', 20132)\n",
      "('get', 19050)\n"
     ]
    }
   ],
   "source": [
    "import operator\n",
    "z=tokenizer.word_counts\n",
    "sorted_tokens = sorted(z.items(), key=operator.itemgetter(1))\n",
    "L=len(sorted_tokens)\n",
    "print(\"Popular words in non-labeled Comments\")\n",
    "print(L)\n",
    "for i in range(L-1,L-20,-1):\n",
    "    print(sorted_tokens[i])"
   ]
  },
  {
   "cell_type": "code",
   "execution_count": 33,
   "metadata": {},
   "outputs": [],
   "source": [
    "ToxicTokenizer = Tokenizer(num_words=max_features)\n",
    "list_toxic_text_train=[]\n",
    "L=np.asarray(toxic_text_train).tolist()\n",
    "for i in range(len(L)):\n",
    "    list_toxic_text_train.append(str(L[i]))\n",
    "\n",
    "ToxicTokenizer.fit_on_texts(list(np.asarray(list_toxic_text_train)))\n"
   ]
  },
  {
   "cell_type": "code",
   "execution_count": 34,
   "metadata": {},
   "outputs": [],
   "source": [
    "tz=ToxicTokenizer.word_counts\n",
    "toxic_sorted_tokens = sorted(tz.items(), key=operator.itemgetter(1))"
   ]
  },
  {
   "cell_type": "code",
   "execution_count": 35,
   "metadata": {},
   "outputs": [
    {
     "name": "stdout",
     "output_type": "stream",
     "text": [
      "Popular words in Toxic Comments\n",
      "('fuck', 9279)\n",
      "('suck', 4234)\n",
      "('like', 3230)\n",
      "('wikipedia', 3200)\n",
      "('shit', 3192)\n",
      "('go', 3170)\n",
      "('u', 3064)\n",
      "('nigger', 2984)\n",
      "('get', 2623)\n",
      "('page', 2197)\n",
      "('know', 2118)\n",
      "('hate', 2047)\n",
      "('die', 2039)\n",
      "('gay', 2024)\n",
      "('bitch', 1908)\n",
      "('faggot', 1854)\n",
      "('moron', 1807)\n",
      "('make', 1767)\n",
      "('fucking', 1686)\n"
     ]
    }
   ],
   "source": [
    "tL=len(toxic_sorted_tokens)\n",
    "#print L\n",
    "print(\"Popular words in Toxic Comments\")\n",
    "for i in range(tL-1,tL-20,-1):\n",
    "    print(toxic_sorted_tokens[i])"
   ]
  },
  {
   "cell_type": "code",
   "execution_count": 36,
   "metadata": {},
   "outputs": [],
   "source": [
    "NonToxicTokenizer = Tokenizer(num_words=max_features)\n",
    "list_ntoxic_text_train=[]\n",
    "L=np.asarray(ntoxic_text_train).tolist()\n",
    "for i in range(len(L)):\n",
    "    list_ntoxic_text_train.append(str(L[i]))\n",
    "\n",
    "NonToxicTokenizer.fit_on_texts(list_ntoxic_text_train)"
   ]
  },
  {
   "cell_type": "code",
   "execution_count": 37,
   "metadata": {},
   "outputs": [],
   "source": [
    "ntz=NonToxicTokenizer.word_counts\n",
    "ntoxic_sorted_tokens = sorted(ntz.items(), key=operator.itemgetter(1))"
   ]
  },
  {
   "cell_type": "code",
   "execution_count": 38,
   "metadata": {},
   "outputs": [
    {
     "name": "stderr",
     "output_type": "stream",
     "text": [
      "IOPub data rate exceeded.\n",
      "The notebook server will temporarily stop sending output\n",
      "to the client in order to avoid crashing it.\n",
      "To change this limit, set the config variable\n",
      "`--NotebookApp.iopub_data_rate_limit`.\n",
      "\n",
      "Current values:\n",
      "NotebookApp.iopub_data_rate_limit=1000000.0 (bytes/sec)\n",
      "NotebookApp.rate_limit_window=3.0 (secs)\n",
      "\n"
     ]
    }
   ],
   "source": [
    "nL = len(ntoxic_sorted_tokens)\n",
    "print( \"Popular words in Non-Toxic Comments\")\n",
    "print (L)\n",
    "for i in range(nL-1,nL-20,-1):\n",
    "    print (ntoxic_sorted_tokens[i])"
   ]
  },
  {
   "cell_type": "code",
   "execution_count": 39,
   "metadata": {},
   "outputs": [],
   "source": [
    "list_text_train=[]\n",
    "L=np.asarray(text_train).tolist()\n",
    "for i in range(len(L)):\n",
    "    list_text_train.append(str(L[i]))\n",
    "    \n",
    "list_text_test=[]\n",
    "L=np.asarray(text_test).tolist()\n",
    "for i in range(len(L)):\n",
    "    list_text_test.append(str(L[i]))    \n",
    "\n",
    "list_tokenized_train = tokenizer.texts_to_sequences(list_text_train) \n",
    "list_tokenized_test = tokenizer.texts_to_sequences(list_text_test)"
   ]
  },
  {
   "cell_type": "code",
   "execution_count": 40,
   "metadata": {},
   "outputs": [
    {
     "name": "stdout",
     "output_type": "stream",
     "text": [
      "(143613, 20000)\n",
      "(15958, 20000)\n"
     ]
    }
   ],
   "source": [
    "#from sklearn.feature_extraction.text import TfidfTransformer\n",
    "from sklearn.feature_extraction.text import TfidfVectorizer\n",
    "tfidf= TfidfVectorizer(\n",
    "            max_df=0.90,\n",
    "            max_features=20000,\n",
    "            encoding='latin1',\n",
    "            preprocessor=None, lowercase=False)\n",
    "tfidf.fit(list(np.asarray(text_train)))\n",
    "tfidf_text_train =tfidf.transform(list(np.asarray(text_train)))\n",
    "tfidf_text_test =tfidf.transform(list(np.asarray(text_test)))\n",
    "print(tfidf_text_train.shape[:])\n",
    "print(tfidf_text_test.shape[:])\n",
    "#print ZZ[1,1]"
   ]
  },
  {
   "cell_type": "code",
   "execution_count": 41,
   "metadata": {},
   "outputs": [
    {
     "data": {
      "text/plain": [
       "MultinomialNB(alpha=1.0, class_prior=None, fit_prior=True)"
      ]
     },
     "execution_count": 41,
     "metadata": {},
     "output_type": "execute_result"
    }
   ],
   "source": [
    "from sklearn.naive_bayes import MultinomialNB\n",
    "nbClf=MultinomialNB()\n",
    "nbClf.fit(tfidf_text_train, y_train)"
   ]
  },
  {
   "cell_type": "code",
   "execution_count": 42,
   "metadata": {},
   "outputs": [],
   "source": [
    "tfidfPredicted=nbClf.predict(tfidf_text_test) ## Predicting the labels of test comments ##"
   ]
  },
  {
   "cell_type": "code",
   "execution_count": 43,
   "metadata": {},
   "outputs": [
    {
     "name": "stdout",
     "output_type": "stream",
     "text": [
      "['0' '0' '0' ... '0' '0' '0']\n",
      "['0' '0' '0' ... '0' '0' '0']\n",
      "['0' '0' '0' ... '0' '0' '0']\n",
      "['0' '0' '0' ... '0' '0' '0']\n",
      "['0' '0' '0' ... '0' '0' '0']\n",
      "['0' '0' '0' ... '0' '0' '0']\n",
      "['0' '0' '0' ... '0' '0' '0']\n"
     ]
    }
   ],
   "source": [
    "from sklearn.metrics import hamming_loss\n",
    "from sklearn.metrics import accuracy_score\n",
    "from sklearn.metrics import f1_score, fbeta_score  \n",
    "from sklearn.metrics import precision_score\n",
    "from sklearn.metrics import recall_score\n",
    "from sklearn.metrics import confusion_matrix\n",
    "from functools import partial\n",
    "from collections import defaultdict \n",
    "\n",
    "METRICS = {\n",
    "    \"confusion_matrix\":confusion_matrix,\n",
    "    \"hamming_loss\": hamming_loss,\n",
    "    \"accuracy\": accuracy_score,\n",
    "    \"precision\": precision_score,     \n",
    "    \"recall\": recall_score, \n",
    "    \"f1\": f1_score,\n",
    "    \"f2\": partial(fbeta_score, beta=2),\n",
    "}\n",
    "\n",
    "tfIDF=[]\n",
    "for i in range(len(tfidfPredicted)):\n",
    "    tfIDF.append(int(tfidfPredicted[i]))\n",
    "\n",
    "Y_test=y_test.tolist()\n",
    "Y=[]\n",
    "#print()\n",
    "for i in range(len(y_test)):\n",
    "#    print(i)#y_test[i])\n",
    "    Y.append(int(Y_test[i]))\n",
    "    \n",
    "    \n",
    "#fIDF)\n",
    "records = defaultdict(dict)\n",
    "list_classes=[]\n",
    "list_classes.append(\"toxic\")\n",
    "for metric_name,metric in METRICS.items():\n",
    "    for j in range(len(list_classes)):\n",
    "#        print(j)\n",
    "#        print(metric(y_test,tfidfPredicted))\n",
    "        print(tfidfPredicted)\n",
    "        \n",
    "#        print(y_test)\n",
    "        records[metric_name][list_classes[j]]=metric(Y,tfIDF) ## Measuring the metrics ##"
   ]
  },
  {
   "cell_type": "code",
   "execution_count": 44,
   "metadata": {},
   "outputs": [
    {
     "name": "stdout",
     "output_type": "stream",
     "text": [
      "{'accuracy': {'toxic': 0.9467351798470987},\n",
      " 'confusion_matrix': {'toxic': array([[14366,    49],\n",
      "       [  801,   742]])},\n",
      " 'f1': {'toxic': 0.6358183376178235},\n",
      " 'f2': {'toxic': 0.532816314806836},\n",
      " 'hamming_loss': {'toxic': 0.05326482015290136},\n",
      " 'precision': {'toxic': 0.9380530973451328},\n",
      " 'recall': {'toxic': 0.48088139987038236}}\n"
     ]
    }
   ],
   "source": [
    "# Pretty printing of the metrics #\n",
    "from pprint import pprint\n",
    "pprint(dict(records))"
   ]
  },
  {
   "cell_type": "code",
   "execution_count": 45,
   "metadata": {},
   "outputs": [],
   "source": [
    "## Use sklearn notes: link: http://scikit-learn.org/stable/auto_examples/model_selection/plot_confusion_matrix.html#sphx-glr-auto-examples-model-selection-plot-confusion-matrix-py\n",
    "## Confusion matrix plotter ## \n",
    "import itertools\n",
    "import numpy as np\n",
    "import matplotlib.pyplot as plt\n",
    "from sklearn.metrics import confusion_matrix\n",
    "\n",
    "def plot_confusion_matrix(cm, classes,\n",
    "                          normalize=False,\n",
    "                          title='Confusion matrix',\n",
    "                          cmap=plt.cm.Blues):\n",
    "    \"\"\"\n",
    "    This function prints and plots the confusion matrix.\n",
    "    Normalization can be applied by setting `normalize=True`.\n",
    "    \"\"\"\n",
    "    if normalize:\n",
    "        cm = cm.astype('float') / cm.sum(axis=1)[:, np.newaxis]\n",
    "        print(\"Normalized confusion matrix\")\n",
    "    else:\n",
    "        print('Confusion matrix, without normalization')\n",
    "\n",
    "    print(cm)\n",
    "\n",
    "    plt.imshow(cm, interpolation='nearest', cmap=cmap)\n",
    "    plt.title(title)\n",
    "    plt.colorbar()\n",
    "    tick_marks = np.arange(len(classes))\n",
    "    plt.xticks(tick_marks, classes, rotation=45)\n",
    "    plt.yticks(tick_marks, classes)\n",
    "\n",
    "    fmt = '.4f' if normalize else 'd'\n",
    "    thresh = cm.max() / 2.\n",
    "    for i, j in itertools.product(range(cm.shape[0]), range(cm.shape[1])):\n",
    "        plt.text(j, i, format(cm[i, j], fmt),\n",
    "                 horizontalalignment=\"center\",\n",
    "                 color=\"white\" if cm[i, j] > thresh else \"black\")\n",
    "\n",
    "    plt.tight_layout()\n",
    "    plt.ylabel('True label')\n",
    "    plt.xlabel('Predicted label')"
   ]
  },
  {
   "cell_type": "code",
   "execution_count": 46,
   "metadata": {},
   "outputs": [
    {
     "name": "stdout",
     "output_type": "stream",
     "text": [
      "Confusion matrix, without normalization\n",
      "[[14366    49]\n",
      " [  801   742]]\n"
     ]
    },
    {
     "data": {
      "text/plain": [
       "<Figure size 432x288 with 0 Axes>"
      ]
     },
     "metadata": {},
     "output_type": "display_data"
    },
    {
     "data": {
      "image/png": "[encoded data removed]",
      "text/plain": [
       "<Figure size 432x288 with 2 Axes>"
      ]
     },
     "metadata": {},
     "output_type": "display_data"
    }
   ],
   "source": [
    "#print records[\"confusion_matrix\"][\"toxic\"]\n",
    "#import plot_confusion_matrix\n",
    "plt.clf()\n",
    "plt.figure()\n",
    "plot_confusion_matrix(records[\"confusion_matrix\"][\"toxic\"],[\"Non-Toxic\",\"Toxic\"])"
   ]
  },
  {
   "cell_type": "code",
   "execution_count": 47,
   "metadata": {},
   "outputs": [
    {
     "name": "stdout",
     "output_type": "stream",
     "text": [
      "Normalized confusion matrix\n",
      "[[0.99660076 0.00339924]\n",
      " [0.5191186  0.4808814 ]]\n"
     ]
    },
    {
     "data": {
      "image/png": "[encoded data removed]",
      "text/plain": [
       "<Figure size 432x288 with 2 Axes>"
      ]
     },
     "metadata": {},
     "output_type": "display_data"
    }
   ],
   "source": [
    "plt.figure()\n",
    "plot_confusion_matrix(records[\"confusion_matrix\"][\"toxic\"],[\"Non-Toxic\",\"Toxic\"],normalize=True,title='Normalized confusion matrix')\n",
    "plt.show()"
   ]
  },
  {
   "cell_type": "code",
   "execution_count": 48,
   "metadata": {},
   "outputs": [
    {
     "name": "stderr",
     "output_type": "stream",
     "text": [
      "/home/ec2-user/anaconda3/envs/amazonei_tensorflow_p36/lib/python3.6/site-packages/sklearn/metrics/classification.py:1143: UndefinedMetricWarning: Precision is ill-defined and being set to 0.0 due to no predicted samples.\n",
      "  'precision', 'predicted', average, warn_for)\n",
      "/home/ec2-user/anaconda3/envs/amazonei_tensorflow_p36/lib/python3.6/site-packages/sklearn/metrics/classification.py:1143: UndefinedMetricWarning: F-score is ill-defined and being set to 0.0 due to no predicted samples.\n",
      "  'precision', 'predicted', average, warn_for)\n",
      "/home/ec2-user/anaconda3/envs/amazonei_tensorflow_p36/lib/python3.6/site-packages/sklearn/metrics/classification.py:1143: UndefinedMetricWarning: F-score is ill-defined and being set to 0.0 due to no predicted samples.\n",
      "  'precision', 'predicted', average, warn_for)\n"
     ]
    }
   ],
   "source": [
    "naivePred=np.zeros(tfidfPredicted.shape[:])\n",
    "tfidfPredicted.shape[:]\n",
    "naiveRecords = defaultdict(dict)\n",
    "\n",
    "tfIDF=[]\n",
    "for i in range(len(tfidfPredicted)):\n",
    "    tfIDF.append(int(tfidfPredicted[i]))\n",
    "\n",
    "Y_test=y_test.tolist()\n",
    "Y=[]\n",
    "#print()\n",
    "for i in range(len(y_test)):\n",
    "#    print(i)#y_test[i])\n",
    "    Y.append(int(Y_test[i]))\n",
    "    \n",
    "\n",
    "\n",
    "\n",
    "for metric_name,metric in METRICS.items():\n",
    "    for j in range(len(list_classes)):\n",
    "        naiveRecords[metric_name][list_classes[j]]=metric(Y,naivePred)"
   ]
  },
  {
   "cell_type": "code",
   "execution_count": 49,
   "metadata": {},
   "outputs": [
    {
     "name": "stdout",
     "output_type": "stream",
     "text": [
      "{'accuracy': {'toxic': 0.9033086852989096},\n",
      " 'confusion_matrix': {'toxic': array([[14415,     0],\n",
      "       [ 1543,     0]])},\n",
      " 'f1': {'toxic': 0.0},\n",
      " 'f2': {'toxic': 0.0},\n",
      " 'hamming_loss': {'toxic': 0.09669131470109037},\n",
      " 'precision': {'toxic': 0.0},\n",
      " 'recall': {'toxic': 0.0}}\n"
     ]
    }
   ],
   "source": [
    "from pprint import pprint\n",
    "pprint(dict(naiveRecords))\n"
   ]
  },
  {
   "cell_type": "code",
   "execution_count": 50,
   "metadata": {},
   "outputs": [
    {
     "name": "stdout",
     "output_type": "stream",
     "text": [
      "Confusion matrix, without normalization\n",
      "[[14415     0]\n",
      " [ 1543     0]]\n"
     ]
    },
    {
     "data": {
      "image/png": "[encoded data removed]",
      "text/plain": [
       "<Figure size 432x288 with 2 Axes>"
      ]
     },
     "metadata": {},
     "output_type": "display_data"
    }
   ],
   "source": [
    "# plt.clf()\n",
    "plt.figure()\n",
    "plot_confusion_matrix(naiveRecords[\"confusion_matrix\"][\"toxic\"],[\"Non-Toxic\",\"Toxic\"],normalize=False,title='Confusion Matrix')\n",
    "plt.show()"
   ]
  },
  {
   "cell_type": "code",
   "execution_count": 51,
   "metadata": {},
   "outputs": [],
   "source": [
    "maxlength=100\n",
    "paddedTrain=pad_sequences(list_tokenized_train,maxlen=maxlength) # Padding the traning section\n",
    "paddedTest=pad_sequences(list_tokenized_test,maxlen=maxlength) # Padding the testing section"
   ]
  },
  {
   "cell_type": "markdown",
   "metadata": {},
   "source": [
    "## LSTM using keras "
   ]
  },
  {
   "cell_type": "code",
   "execution_count": 53,
   "metadata": {},
   "outputs": [
    {
     "name": "stdout",
     "output_type": "stream",
     "text": [
      "WARNING:tensorflow:From /home/ec2-user/anaconda3/envs/amazonei_tensorflow_p36/lib/python3.6/site-packages/tensorflow/python/ops/resource_variable_ops.py:435: colocate_with (from tensorflow.python.framework.ops) is deprecated and will be removed in a future version.\n",
      "Instructions for updating:\n",
      "Colocations handled automatically by placer.\n",
      "Model: \"sequential_1\"\n",
      "_________________________________________________________________\n",
      "Layer (type)                 Output Shape              Param #   \n",
      "=================================================================\n",
      "embedding_1 (Embedding)      (None, 100, 128)          2560000   \n",
      "_________________________________________________________________\n",
      "lstm_layer (LSTM)            (None, 100, 60)           45360     \n",
      "_________________________________________________________________\n",
      "global_max_pooling1d_1 (Glob (None, 60)                0         \n",
      "_________________________________________________________________\n",
      "dropout_1 (Dropout)          (None, 60)                0         \n",
      "_________________________________________________________________\n",
      "dense_1 (Dense)              (None, 50)                3050      \n",
      "_________________________________________________________________\n",
      "dropout_2 (Dropout)          (None, 50)                0         \n",
      "_________________________________________________________________\n",
      "dense_2 (Dense)              (None, 1)                 51        \n",
      "=================================================================\n",
      "Total params: 2,608,461\n",
      "Trainable params: 2,608,461\n",
      "Non-trainable params: 0\n",
      "_________________________________________________________________\n"
     ]
    }
   ],
   "source": [
    "# Importing LSTM Classifier,\n",
    "#I have written a function for making the architecture using the given inputs for LSTM classifier #\n",
    "checkCLF=LSTM_Classifier(embDim=128, lstmDim=60, hidDim=50, outDim=1, maxlen=100)\n",
    "checkCLF.summary()\n",
    "Path='weights.best.RNN.' # I saved the trained weights for extended use and transfer learning # \n",
    "checkpoint=ModelCheckpoint(filepath=Path,\n",
    "                           verbose=1, save_best_only=True)"
   ]
  },
  {
   "cell_type": "code",
   "execution_count": 54,
   "metadata": {},
   "outputs": [
    {
     "name": "stdout",
     "output_type": "stream",
     "text": [
      "WARNING:tensorflow:From /home/ec2-user/anaconda3/envs/amazonei_tensorflow_p36/lib/python3.6/site-packages/tensorflow/python/ops/math_ops.py:3066: to_int32 (from tensorflow.python.ops.math_ops) is deprecated and will be removed in a future version.\n",
      "Instructions for updating:\n",
      "Use tf.cast instead.\n",
      "WARNING:tensorflow:From /home/ec2-user/anaconda3/envs/amazonei_tensorflow_p36/lib/python3.6/site-packages/tensorflow/python/ops/math_grad.py:102: div (from tensorflow.python.ops.math_ops) is deprecated and will be removed in a future version.\n",
      "Instructions for updating:\n",
      "Deprecated in favor of operator or tf.math.divide.\n",
      "Train on 129251 samples, validate on 14362 samples\n",
      "Epoch 1/15\n",
      "129251/129251 [==============================] - 66s 513us/step - loss: 0.1922 - accuracy: 0.9363 - val_loss: 0.1183 - val_accuracy: 0.9589\n",
      "\n",
      "Epoch 00001: val_loss improved from inf to 0.11830, saving model to weights.best.RNN.\n",
      "Epoch 2/15\n",
      "129251/129251 [==============================] - 64s 497us/step - loss: 0.0996 - accuracy: 0.9634 - val_loss: 0.1148 - val_accuracy: 0.9600\n",
      "\n",
      "Epoch 00002: val_loss improved from 0.11830 to 0.11480, saving model to weights.best.RNN.\n",
      "Epoch 3/15\n",
      "129251/129251 [==============================] - 64s 498us/step - loss: 0.0792 - accuracy: 0.9706 - val_loss: 0.1277 - val_accuracy: 0.9572\n",
      "\n",
      "Epoch 00003: val_loss did not improve from 0.11480\n",
      "Epoch 4/15\n",
      "129251/129251 [==============================] - 64s 496us/step - loss: 0.0610 - accuracy: 0.9777 - val_loss: 0.1503 - val_accuracy: 0.9554\n",
      "\n",
      "Epoch 00004: val_loss did not improve from 0.11480\n",
      "Epoch 5/15\n",
      "129251/129251 [==============================] - 64s 497us/step - loss: 0.0462 - accuracy: 0.9837 - val_loss: 0.1645 - val_accuracy: 0.9532\n",
      "\n",
      "Epoch 00005: val_loss did not improve from 0.11480\n",
      "Epoch 6/15\n",
      "129251/129251 [==============================] - 64s 496us/step - loss: 0.0348 - accuracy: 0.9881 - val_loss: 0.2096 - val_accuracy: 0.9494\n",
      "\n",
      "Epoch 00006: val_loss did not improve from 0.11480\n",
      "Epoch 7/15\n",
      "129251/129251 [==============================] - 64s 496us/step - loss: 0.0281 - accuracy: 0.9903 - val_loss: 0.2537 - val_accuracy: 0.9504\n",
      "\n",
      "Epoch 00007: val_loss did not improve from 0.11480\n",
      "Epoch 8/15\n",
      "129251/129251 [==============================] - 64s 496us/step - loss: 0.0233 - accuracy: 0.9921 - val_loss: 0.2740 - val_accuracy: 0.9484\n",
      "\n",
      "Epoch 00008: val_loss did not improve from 0.11480\n",
      "Epoch 9/15\n",
      "129251/129251 [==============================] - 64s 497us/step - loss: 0.0199 - accuracy: 0.9931 - val_loss: 0.2916 - val_accuracy: 0.9440\n",
      "\n",
      "Epoch 00009: val_loss did not improve from 0.11480\n",
      "Epoch 10/15\n",
      "129251/129251 [==============================] - 64s 496us/step - loss: 0.0169 - accuracy: 0.9942 - val_loss: 0.3105 - val_accuracy: 0.9473\n",
      "\n",
      "Epoch 00010: val_loss did not improve from 0.11480\n",
      "Epoch 11/15\n",
      "129251/129251 [==============================] - 64s 496us/step - loss: 0.0145 - accuracy: 0.9948 - val_loss: 0.3250 - val_accuracy: 0.9463\n",
      "\n",
      "Epoch 00011: val_loss did not improve from 0.11480\n",
      "Epoch 12/15\n",
      "129251/129251 [==============================] - 64s 496us/step - loss: 0.0129 - accuracy: 0.9955 - val_loss: 0.3544 - val_accuracy: 0.9474\n",
      "\n",
      "Epoch 00012: val_loss did not improve from 0.11480\n",
      "Epoch 13/15\n",
      "129251/129251 [==============================] - 64s 497us/step - loss: 0.0119 - accuracy: 0.9957 - val_loss: 0.3825 - val_accuracy: 0.9490\n",
      "\n",
      "Epoch 00013: val_loss did not improve from 0.11480\n",
      "Epoch 14/15\n",
      "129251/129251 [==============================] - 64s 498us/step - loss: 0.0109 - accuracy: 0.9960 - val_loss: 0.3964 - val_accuracy: 0.9476\n",
      "\n",
      "Epoch 00014: val_loss did not improve from 0.11480\n",
      "Epoch 15/15\n",
      "129251/129251 [==============================] - 64s 497us/step - loss: 0.0103 - accuracy: 0.9963 - val_loss: 0.3829 - val_accuracy: 0.9474\n",
      "\n",
      "Epoch 00015: val_loss did not improve from 0.11480\n"
     ]
    }
   ],
   "source": [
    "epochs=15\n",
    "history=checkCLF.fit(paddedTrain, y_train, validation_split=0.1,\n",
    "                epochs=epochs,\n",
    "                batch_size=256,\n",
    "                callbacks=[checkpoint], verbose=1,\n",
    "                )"
   ]
  },
  {
   "cell_type": "code",
   "execution_count": 55,
   "metadata": {},
   "outputs": [],
   "source": [
    "BestTrainPred=checkCLF.predict(paddedTrain) ## Predicting the results for test and training section using trained LSTM Classifier ##\n",
    "BestTestPred=checkCLF.predict(paddedTest)"
   ]
  },
  {
   "cell_type": "code",
   "execution_count": 56,
   "metadata": {},
   "outputs": [],
   "source": [
    "## binary formatting the probability predictions ## \n",
    "# Setting the threshhold 0.5 #\n",
    "BinaryTrainPred=np.zeros(BestTrainPred.shape[:])\n",
    "BinaryTestPred=np.zeros(BestTestPred.shape[:])\n",
    "\n",
    "for i in range(len(BestTrainPred)):\n",
    "    for j in range(1):\n",
    "        if BestTrainPred[i,j] >= 0.5:\n",
    "            BinaryTrainPred[i,j]=1\n",
    "        else:\n",
    "            BinaryTrainPred[i,j]=0\n",
    "            \n",
    "for i in range(len(BestTestPred)):\n",
    "    for j in range(1):\n",
    "        if BestTestPred[i,j] >= 0.5:\n",
    "            BinaryTestPred[i,j]=1\n",
    "        else:\n",
    "            BinaryTestPred[i,j]=0"
   ]
  },
  {
   "cell_type": "code",
   "execution_count": 57,
   "metadata": {},
   "outputs": [],
   "source": [
    "from sklearn.metrics import hamming_loss\n",
    "from sklearn.metrics import accuracy_score\n",
    "from sklearn.metrics import f1_score, fbeta_score  \n",
    "from sklearn.metrics import precision_score\n",
    "from sklearn.metrics import recall_score\n",
    "from sklearn.metrics import confusion_matrix\n",
    "#from sklearn.metrics import jaccard_similarity_score\n",
    "from functools import partial\n",
    "from collections import defaultdict \n",
    "\n",
    "METRICS = {\n",
    "    \"confusion_matrix\":confusion_matrix,\n",
    "    \"hamming_loss\": hamming_loss,\n",
    "    \"accuracy\": accuracy_score,\n",
    "    \"precision\": precision_score,     \n",
    "    \"recall\": recall_score, \n",
    "    \"f1\": f1_score,\n",
    "    \"f2\": partial(fbeta_score, beta=2),\n",
    "}\n",
    "\n",
    "ytest=y_test.tolist()\n",
    "Y=[]\n",
    "for i in range(len(ytest)):\n",
    "    Y.append(int(ytest[i]))\n",
    "\n",
    "records = defaultdict(dict)\n",
    "list_classes=[]\n",
    "list_classes.append(\"toxic\")\n",
    "for metric_name,metric in METRICS.items():\n",
    "    records[metric_name][list_classes[0]]=metric(Y,BinaryTestPred[:,0])"
   ]
  },
  {
   "cell_type": "code",
   "execution_count": 58,
   "metadata": {},
   "outputs": [
    {
     "name": "stdout",
     "output_type": "stream",
     "text": [
      "{'accuracy': {'toxic': 0.9439152776037097},\n",
      " 'confusion_matrix': {'toxic': array([[14003,   412],\n",
      "       [  483,  1060]])},\n",
      " 'f1': {'toxic': 0.703150912106136},\n",
      " 'f2': {'toxic': 0.6933542647828362},\n",
      " 'hamming_loss': {'toxic': 0.05608472239629026},\n",
      " 'precision': {'toxic': 0.720108695652174},\n",
      " 'recall': {'toxic': 0.6869734283862605}}\n"
     ]
    }
   ],
   "source": [
    "from pprint import pprint\n",
    "pprint(dict(records))"
   ]
  },
  {
   "cell_type": "code",
   "execution_count": 59,
   "metadata": {},
   "outputs": [],
   "source": [
    "## Use sklearn notes: link: http://scikit-learn.org/stable/auto_examples/model_selection/plot_confusion_matrix.html#sphx-glr-auto-examples-model-selection-plot-confusion-matrix-py\n",
    "## Confusion matrix plotter ## \n",
    "import itertools\n",
    "import numpy as np\n",
    "import matplotlib.pyplot as plt\n",
    "from sklearn.metrics import confusion_matrix\n",
    "\n",
    "def plot_confusion_matrix(cm, classes,\n",
    "                          normalize=False,\n",
    "                          title='Confusion matrix',\n",
    "                          cmap=plt.cm.Blues):\n",
    "    \"\"\"\n",
    "    This function prints and plots the confusion matrix.\n",
    "    Normalization can be applied by setting `normalize=True`.\n",
    "    \"\"\"\n",
    "    if normalize:\n",
    "        cm = cm.astype('float') / cm.sum(axis=1)[:, np.newaxis]\n",
    "        print(\"Normalized confusion matrix\")\n",
    "    else:\n",
    "        print('Confusion matrix, without normalization')\n",
    "\n",
    "    print(cm)\n",
    "\n",
    "    plt.imshow(cm, interpolation='nearest', cmap=cmap)\n",
    "    plt.title(title)\n",
    "    plt.colorbar()\n",
    "    tick_marks = np.arange(len(classes))\n",
    "    plt.xticks(tick_marks, classes, rotation=45)\n",
    "    plt.yticks(tick_marks, classes)\n",
    "\n",
    "    fmt = '.4f' if normalize else 'd'\n",
    "    thresh = cm.max() / 2.\n",
    "    for i, j in itertools.product(range(cm.shape[0]), range(cm.shape[1])):\n",
    "        plt.text(j, i, format(cm[i, j], fmt),\n",
    "                 horizontalalignment=\"center\",\n",
    "                 color=\"white\" if cm[i, j] > thresh else \"black\")\n",
    "\n",
    "    plt.tight_layout()\n",
    "    plt.ylabel('True label')\n",
    "    plt.xlabel('Predicted label')"
   ]
  },
  {
   "cell_type": "code",
   "execution_count": 60,
   "metadata": {},
   "outputs": [
    {
     "name": "stdout",
     "output_type": "stream",
     "text": [
      "Confusion matrix, without normalization\n",
      "[[14003   412]\n",
      " [  483  1060]]\n"
     ]
    },
    {
     "data": {
      "text/plain": [
       "<Figure size 432x288 with 0 Axes>"
      ]
     },
     "metadata": {},
     "output_type": "display_data"
    },
    {
     "data": {
      "image/png": "[encoded data removed]",
      "text/plain": [
       "<Figure size 432x288 with 2 Axes>"
      ]
     },
     "metadata": {},
     "output_type": "display_data"
    }
   ],
   "source": [
    "plt.clf()\n",
    "plt.figure()\n",
    "plot_confusion_matrix(records[\"confusion_matrix\"][\"toxic\"],[\"Non-Toxic\",\"Toxic\"],normalize=False,title='Confusion Matrix')\n",
    "plt.show()"
   ]
  },
  {
   "cell_type": "code",
   "execution_count": 61,
   "metadata": {},
   "outputs": [
    {
     "name": "stdout",
     "output_type": "stream",
     "text": [
      "Normalized confusion matrix\n",
      "[[0.97141866 0.02858134]\n",
      " [0.31302657 0.68697343]]\n"
     ]
    },
    {
     "data": {
      "image/png": "[encoded data removed]",
      "text/plain": [
       "<Figure size 432x288 with 2 Axes>"
      ]
     },
     "metadata": {},
     "output_type": "display_data"
    }
   ],
   "source": [
    "# I have used a code suggested in sklearn for plotting confusion matrix, check the  plot_confusion_matrix.py in this folder\n",
    "# The link is documented inside its file \n",
    "plt.figure()\n",
    "plot_confusion_matrix(records[\"confusion_matrix\"][\"toxic\"],[\"Non-Toxic\",\"Toxic\"],normalize=True,title='Normalized confusion matrix')\n",
    "plt.show()"
   ]
  },
  {
   "cell_type": "markdown",
   "metadata": {},
   "source": [
    "# * LSTM using MXNet"
   ]
  },
  {
   "cell_type": "code",
   "execution_count": 3,
   "metadata": {},
   "outputs": [
    {
     "ename": "NameError",
     "evalue": "name 'paddedTrain' is not defined",
     "output_type": "error",
     "traceback": [
      "\u001b[0;31m---------------------------------------------------------------------------\u001b[0m",
      "\u001b[0;31mNameError\u001b[0m                                 Traceback (most recent call last)",
      "\u001b[0;32m<ipython-input-3-764265bb706d>\u001b[0m in \u001b[0;36m<module>\u001b[0;34m\u001b[0m\n\u001b[1;32m      1\u001b[0m \u001b[0mlayer\u001b[0m \u001b[0;34m=\u001b[0m \u001b[0mmx\u001b[0m\u001b[0;34m.\u001b[0m\u001b[0mgluon\u001b[0m\u001b[0;34m.\u001b[0m\u001b[0mrnn\u001b[0m\u001b[0;34m.\u001b[0m\u001b[0mLSTM\u001b[0m\u001b[0;34m(\u001b[0m\u001b[0;36m100\u001b[0m\u001b[0;34m,\u001b[0m \u001b[0;36m3\u001b[0m\u001b[0;34m)\u001b[0m\u001b[0;34m\u001b[0m\u001b[0;34m\u001b[0m\u001b[0m\n\u001b[1;32m      2\u001b[0m \u001b[0mlayer\u001b[0m\u001b[0;34m.\u001b[0m\u001b[0minitialize\u001b[0m\u001b[0;34m(\u001b[0m\u001b[0;34m)\u001b[0m\u001b[0;34m\u001b[0m\u001b[0;34m\u001b[0m\u001b[0m\n\u001b[0;32m----> 3\u001b[0;31m \u001b[0minput\u001b[0m \u001b[0;34m=\u001b[0m \u001b[0mpaddedTrain\u001b[0m\u001b[0;34m\u001b[0m\u001b[0;34m\u001b[0m\u001b[0m\n\u001b[0m\u001b[1;32m      4\u001b[0m \u001b[0;31m# by default zeros are used as begin state\u001b[0m\u001b[0;34m\u001b[0m\u001b[0;34m\u001b[0m\u001b[0;34m\u001b[0m\u001b[0m\n\u001b[1;32m      5\u001b[0m \u001b[0moutput\u001b[0m \u001b[0;34m=\u001b[0m \u001b[0mlayer\u001b[0m\u001b[0;34m(\u001b[0m\u001b[0minput\u001b[0m\u001b[0;34m)\u001b[0m\u001b[0;34m\u001b[0m\u001b[0;34m\u001b[0m\u001b[0m\n",
      "\u001b[0;31mNameError\u001b[0m: name 'paddedTrain' is not defined"
     ]
    }
   ],
   "source": [
    "layer = mx.gluon.rnn.LSTM(100, 3)\n",
    "layer.initialize()\n",
    "input = paddedTrain\n",
    "# by default zeros are used as begin state\n",
    "output = layer(input)\n",
    "# manually specify begin state.\n",
    "h0 = mx.nd.random.uniform(shape=(3, 3, 100))\n",
    "c0 = mx.nd.random.uniform(shape=(3, 3, 100))\n",
    "output, hn = layer(input, [h0, c0])"
   ]
  },
  {
   "cell_type": "code",
   "execution_count": null,
   "metadata": {},
   "outputs": [],
   "source": [
    "epochs=15\n",
    "history=layer.fit(paddedTrain, y_train, validation_split=0.1,\n",
    "                epochs=epochs,\n",
    "                batch_size=256,\n",
    "                callbacks=[checkpoint], verbose=1,\n",
    "                )"
   ]
  },
  {
   "cell_type": "code",
   "execution_count": null,
   "metadata": {},
   "outputs": [],
   "source": [
    "BestTrainPred=checkCLF.predict(paddedTrain) ## Predicting the results for test and training section using trained LSTM Classifier ##\n",
    "BestTestPred=checkCLF.predict(paddedTest)"
   ]
  },
  {
   "cell_type": "code",
   "execution_count": null,
   "metadata": {},
   "outputs": [],
   "source": [
    "## binary formatting the probability predictions ## \n",
    "# Setting the threshhold 0.5 #\n",
    "BinaryTrainPred=np.zeros(BestTrainPred.shape[:])\n",
    "BinaryTestPred=np.zeros(BestTestPred.shape[:])\n",
    "\n",
    "for i in range(len(BestTrainPred)):\n",
    "    for j in range(1):\n",
    "        if BestTrainPred[i,j] >= 0.5:\n",
    "            BinaryTrainPred[i,j]=1\n",
    "        else:\n",
    "            BinaryTrainPred[i,j]=0\n",
    "            \n",
    "for i in range(len(BestTestPred)):\n",
    "    for j in range(1):\n",
    "        if BestTestPred[i,j] >= 0.5:\n",
    "            BinaryTestPred[i,j]=1\n",
    "        else:\n",
    "            BinaryTestPred[i,j]=0"
   ]
  },
  {
   "cell_type": "code",
   "execution_count": null,
   "metadata": {},
   "outputs": [],
   "source": [
    "from sklearn.metrics import hamming_loss\n",
    "from sklearn.metrics import accuracy_score\n",
    "from sklearn.metrics import f1_score, fbeta_score  \n",
    "from sklearn.metrics import precision_score\n",
    "from sklearn.metrics import recall_score\n",
    "from sklearn.metrics import confusion_matrix\n",
    "#from sklearn.metrics import jaccard_similarity_score\n",
    "from functools import partial\n",
    "from collections import defaultdict \n",
    "\n",
    "METRICS = {\n",
    "    \"confusion_matrix\":confusion_matrix,\n",
    "    \"hamming_loss\": hamming_loss,\n",
    "    \"accuracy\": accuracy_score,\n",
    "    \"precision\": precision_score,     \n",
    "    \"recall\": recall_score, \n",
    "    \"f1\": f1_score,\n",
    "    \"f2\": partial(fbeta_score, beta=2),\n",
    "}\n",
    "\n",
    "ytest=y_test.tolist()\n",
    "Y=[]\n",
    "for i in range(len(ytest)):\n",
    "    Y.append(int(ytest[i]))\n",
    "\n",
    "records = defaultdict(dict)\n",
    "list_classes=[]\n",
    "list_classes.append(\"toxic\")\n",
    "for metric_name,metric in METRICS.items():\n",
    "    records[metric_name][list_classes[0]]=metric(Y,BinaryTestPred[:,0])"
   ]
  },
  {
   "cell_type": "code",
   "execution_count": null,
   "metadata": {},
   "outputs": [],
   "source": [
    "from pprint import pprint\n",
    "pprint(dict(records))"
   ]
  }
 ],
 "metadata": {
  "kernelspec": {
   "display_name": "Python 3",
   "language": "python",
   "name": "python3"
  },
  "language_info": {
   "codemirror_mode": {
    "name": "ipython",
    "version": 3
   },
   "file_extension": ".py",
   "mimetype": "text/x-python",
   "name": "python",
   "nbconvert_exporter": "python",
   "pygments_lexer": "ipython3",
   "version": "3.7.1"
  }
 },
 "nbformat": 4,
 "nbformat_minor": 4
}
