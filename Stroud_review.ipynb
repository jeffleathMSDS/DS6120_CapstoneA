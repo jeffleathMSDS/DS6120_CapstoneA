{
 "cells": [
  {
   "cell_type": "markdown",
   "metadata": {},
   "source": [
    "# Capstone A - Stroud Comments\n",
    "## Note: My commments will be distinct. ie;\n",
    "> In one sentence, describe your project.\n",
    "\n",
    "\n",
    "Fall 2019\n"
   ]
  },
  {
   "cell_type": "markdown",
   "metadata": {},
   "source": [
    "<a id=\"top\"></a>\n",
    "\n",
    "## Contents\n",
    "\n",
    "* <a href=\"#abstract\">Abstract</a>\n",
    "* <a href=\"#intro\">Introduction</a>\n",
    "* <a href=\"#methods\">Methods</a>\n",
    "* <a href=\"#data\">Data</a>\n",
    "* <a href=\"#results\">Results</a>\n",
    "* <a href=\"#conclude\">Conclusion</a>\n",
    "* <a href=\"#ref\">References</a>\n",
    "\n",
    "\n",
    "* <a href=\"#append\">Appendix</a>"
   ]
  },
  {
   "cell_type": "markdown",
   "metadata": {},
   "source": [
    "<a id=\"abstract\"></a>\n",
    "## Abstract\n",
    "\n",
    "<a href=\"#top\">Back to Top</a>\n",
    "\n",
    "abcd"
   ]
  },
  {
   "cell_type": "code",
   "execution_count": null,
   "metadata": {},
   "outputs": [],
   "source": []
  },
  {
   "cell_type": "markdown",
   "metadata": {},
   "source": [
    "<a id=\"intro\"></a>\n",
    "## Introduction\n",
    "\n",
    "<a href=\"#top\">Back to Top</a>\n",
    "\n",
    "abcd"
   ]
  },
  {
   "cell_type": "code",
   "execution_count": null,
   "metadata": {},
   "outputs": [],
   "source": []
  },
  {
   "cell_type": "markdown",
   "metadata": {},
   "source": [
    "<a id=\"background\"></a>\n",
    "## Methods\n",
    "\n",
    "<a href=\"#top\">Back to Top</a>\n",
    "\n",
    "abcd\n"
   ]
  },
  {
   "cell_type": "code",
   "execution_count": null,
   "metadata": {},
   "outputs": [],
   "source": []
  },
  {
   "cell_type": "markdown",
   "metadata": {},
   "source": [
    "<a id=\"lib\"></a>\n",
    "## Libraries\n",
    "\n",
    "<a href=\"#top\">Back to Top</a>"
   ]
  },
  {
   "cell_type": "code",
   "execution_count": 2,
   "metadata": {},
   "outputs": [
    {
     "name": "stderr",
     "output_type": "stream",
     "text": [
      "[nltk_data] Downloading package stopwords to /Users/david/nltk_data...\n",
      "[nltk_data]   Unzipping corpora/stopwords.zip.\n"
     ]
    }
   ],
   "source": [
    "\n",
    "#Basic/Standard\n",
    "\n",
    "import pandas as pd\n",
    "import numpy as np\n",
    "from pandas import read_csv\n",
    "from pandas import datetime\n",
    "from matplotlib import pyplot as plt\n",
    "import matplotlib \n",
    "%matplotlib inline\n",
    "\n",
    "#StatsModel\n",
    "from statsmodels.tsa.arima_model import ARIMA\n",
    "from statsmodels.tsa.stattools import acf, pacf\n",
    "from statsmodels.tsa.seasonal import seasonal_decompose\n",
    "from statsmodels.tsa.stattools import adfuller\n",
    "\n",
    "#NLP\n",
    "\n",
    "from nltk.corpus import stopwords as sw\n",
    "from nltk.corpus import wordnet as wn\n",
    "from sklearn.preprocessing import Normalizer\n",
    "from pickle import load\n",
    "\n",
    "from nltk import wordpunct_tokenize\n",
    "from nltk.stem import WordNetLemmatizer\n",
    "from nltk import sent_tokenize\n",
    "from nltk import pos_tag\n",
    "from sklearn.base import BaseEstimator,TransformerMixin\n",
    "\n",
    "import nltk\n",
    "nltk.download('stopwords')\n",
    "\n",
    "\n",
    "from time import time\n",
    "import matplotlib.pyplot as plt\n",
    "import sklearn\n",
    "from sklearn.model_selection import ShuffleSplit, train_test_split\n",
    "from sklearn.feature_selection import SelectKBest, chi2\n",
    "from sklearn.linear_model import RidgeClassifier\n",
    "from sklearn.svm import LinearSVC\n",
    "from sklearn.linear_model import SGDClassifier\n",
    "from sklearn.linear_model import Perceptron\n",
    "from sklearn.linear_model import PassiveAggressiveClassifier\n",
    "from sklearn.naive_bayes import BernoulliNB, MultinomialNB\n",
    "from sklearn.neighbors import KNeighborsClassifier\n",
    "from sklearn.neighbors import NearestCentroid\n",
    "from sklearn.ensemble import RandomForestClassifier\n",
    "from sklearn.utils.extmath import density\n",
    "from sklearn import metrics\n",
    "import numpy as np\n",
    "import pandas as pd\n",
    "from sklearn import model_selection\n",
    "from sklearn.ensemble import RandomForestClassifier\n",
    "from sklearn.pipeline import Pipeline\n",
    "from sklearn.feature_extraction.text import TfidfVectorizer\n",
    "import string\n",
    "from nltk.corpus import stopwords as sw\n",
    "from nltk.corpus import wordnet as wn\n",
    "from sklearn.preprocessing import Normalizer\n",
    "from pickle import load\n",
    "\n",
    "from nltk import wordpunct_tokenize\n",
    "from nltk.stem import WordNetLemmatizer\n",
    "from nltk import sent_tokenize\n",
    "from nltk import pos_tag\n",
    "from sklearn.base import BaseEstimator,TransformerMixin"
   ]
  },
  {
   "cell_type": "markdown",
   "metadata": {},
   "source": [
    "> Describe the detail of the NLTK library in your writeup. This is a crucial component of the work and bears some attention in the writeup.\n",
    "\n",
    "> Why did you use NLTK, what other alternatives were available? \n",
    "\n",
    "> What does current literature say about NLTK?\n",
    "\n",
    "> Describe NLTK?"
   ]
  },
  {
   "cell_type": "markdown",
   "metadata": {},
   "source": [
    "<a id=\"data\"></a>\n",
    "## Data\n",
    "\n",
    "<a href=\"#top\">Back to Top</a>"
   ]
  },
  {
   "cell_type": "markdown",
   "metadata": {},
   "source": [
    "### Read in the data file"
   ]
  },
  {
   "cell_type": "code",
   "execution_count": 3,
   "metadata": {},
   "outputs": [],
   "source": [
    "df = pd.read_csv(\"data/train.csv\")"
   ]
  },
  {
   "cell_type": "markdown",
   "metadata": {},
   "source": [
    "> Describe the dataset\n",
    "\n",
    "> It is approximately 69 MB, 160,000 observations and 8 columns. Is this enough data to accomplish your task? Why or why not?\n",
    "\n",
    "> What data cleaning process was used to get the data in shape for analysis. Who did the cleaning and what were the results?\n",
    "\n",
    "> Address the sparcity of the data. How might that affect your approach to solving this problem?\n",
    "\n",
    "> Why is this the right dataset for your analysis?"
   ]
  },
  {
   "cell_type": "markdown",
   "metadata": {},
   "source": [
    "### Check the structur"
   ]
  },
  {
   "cell_type": "code",
   "execution_count": 5,
   "metadata": {},
   "outputs": [
    {
     "name": "stdout",
     "output_type": "stream",
     "text": [
      "number of rows: 159571\n",
      "number of columns: 8\n"
     ]
    }
   ],
   "source": [
    "# check the structure\n",
    "\n",
    "print(\"number of rows: {0}\".format(df.shape[0]))\n",
    "print(\"number of columns: {0}\".format(df.shape[1]))"
   ]
  },
  {
   "cell_type": "code",
   "execution_count": 6,
   "metadata": {},
   "outputs": [
    {
     "name": "stdout",
     "output_type": "stream",
     "text": [
      "<class 'pandas.core.frame.DataFrame'>\n",
      "RangeIndex: 159571 entries, 0 to 159570\n",
      "Data columns (total 8 columns):\n",
      "id               159571 non-null object\n",
      "comment_text     159571 non-null object\n",
      "toxic            159571 non-null int64\n",
      "severe_toxic     159571 non-null int64\n",
      "obscene          159571 non-null int64\n",
      "threat           159571 non-null int64\n",
      "insult           159571 non-null int64\n",
      "identity_hate    159571 non-null int64\n",
      "dtypes: int64(6), object(2)\n",
      "memory usage: 9.7+ MB\n"
     ]
    }
   ],
   "source": [
    "# check the structure\n",
    "\n",
    "df.info()"
   ]
  },
  {
   "cell_type": "code",
   "execution_count": 7,
   "metadata": {},
   "outputs": [
    {
     "data": {
      "text/html": [
       "<div>\n",
       "<style scoped>\n",
       "    .dataframe tbody tr th:only-of-type {\n",
       "        vertical-align: middle;\n",
       "    }\n",
       "\n",
       "    .dataframe tbody tr th {\n",
       "        vertical-align: top;\n",
       "    }\n",
       "\n",
       "    .dataframe thead th {\n",
       "        text-align: right;\n",
       "    }\n",
       "</style>\n",
       "<table border=\"1\" class=\"dataframe\">\n",
       "  <thead>\n",
       "    <tr style=\"text-align: right;\">\n",
       "      <th></th>\n",
       "      <th>id</th>\n",
       "      <th>comment_text</th>\n",
       "      <th>toxic</th>\n",
       "      <th>severe_toxic</th>\n",
       "      <th>obscene</th>\n",
       "      <th>threat</th>\n",
       "      <th>insult</th>\n",
       "      <th>identity_hate</th>\n",
       "    </tr>\n",
       "  </thead>\n",
       "  <tbody>\n",
       "    <tr>\n",
       "      <th>0</th>\n",
       "      <td>0000997932d777bf</td>\n",
       "      <td>Explanation\\nWhy the edits made under my usern...</td>\n",
       "      <td>0</td>\n",
       "      <td>0</td>\n",
       "      <td>0</td>\n",
       "      <td>0</td>\n",
       "      <td>0</td>\n",
       "      <td>0</td>\n",
       "    </tr>\n",
       "    <tr>\n",
       "      <th>1</th>\n",
       "      <td>000103f0d9cfb60f</td>\n",
       "      <td>D'aww! He matches this background colour I'm s...</td>\n",
       "      <td>0</td>\n",
       "      <td>0</td>\n",
       "      <td>0</td>\n",
       "      <td>0</td>\n",
       "      <td>0</td>\n",
       "      <td>0</td>\n",
       "    </tr>\n",
       "    <tr>\n",
       "      <th>2</th>\n",
       "      <td>000113f07ec002fd</td>\n",
       "      <td>Hey man, I'm really not trying to edit war. It...</td>\n",
       "      <td>0</td>\n",
       "      <td>0</td>\n",
       "      <td>0</td>\n",
       "      <td>0</td>\n",
       "      <td>0</td>\n",
       "      <td>0</td>\n",
       "    </tr>\n",
       "    <tr>\n",
       "      <th>3</th>\n",
       "      <td>0001b41b1c6bb37e</td>\n",
       "      <td>\"\\nMore\\nI can't make any real suggestions on ...</td>\n",
       "      <td>0</td>\n",
       "      <td>0</td>\n",
       "      <td>0</td>\n",
       "      <td>0</td>\n",
       "      <td>0</td>\n",
       "      <td>0</td>\n",
       "    </tr>\n",
       "    <tr>\n",
       "      <th>4</th>\n",
       "      <td>0001d958c54c6e35</td>\n",
       "      <td>You, sir, are my hero. Any chance you remember...</td>\n",
       "      <td>0</td>\n",
       "      <td>0</td>\n",
       "      <td>0</td>\n",
       "      <td>0</td>\n",
       "      <td>0</td>\n",
       "      <td>0</td>\n",
       "    </tr>\n",
       "  </tbody>\n",
       "</table>\n",
       "</div>"
      ],
      "text/plain": [
       "                 id                                       comment_text  toxic  \\\n",
       "0  0000997932d777bf  Explanation\\nWhy the edits made under my usern...      0   \n",
       "1  000103f0d9cfb60f  D'aww! He matches this background colour I'm s...      0   \n",
       "2  000113f07ec002fd  Hey man, I'm really not trying to edit war. It...      0   \n",
       "3  0001b41b1c6bb37e  \"\\nMore\\nI can't make any real suggestions on ...      0   \n",
       "4  0001d958c54c6e35  You, sir, are my hero. Any chance you remember...      0   \n",
       "\n",
       "   severe_toxic  obscene  threat  insult  identity_hate  \n",
       "0             0        0       0       0              0  \n",
       "1             0        0       0       0              0  \n",
       "2             0        0       0       0              0  \n",
       "3             0        0       0       0              0  \n",
       "4             0        0       0       0              0  "
      ]
     },
     "execution_count": 7,
     "metadata": {},
     "output_type": "execute_result"
    }
   ],
   "source": [
    "# check the structure\n",
    "\n",
    "df.head()"
   ]
  },
  {
   "cell_type": "code",
   "execution_count": 9,
   "metadata": {},
   "outputs": [
    {
     "data": {
      "text/html": [
       "<div>\n",
       "<style scoped>\n",
       "    .dataframe tbody tr th:only-of-type {\n",
       "        vertical-align: middle;\n",
       "    }\n",
       "\n",
       "    .dataframe tbody tr th {\n",
       "        vertical-align: top;\n",
       "    }\n",
       "\n",
       "    .dataframe thead th {\n",
       "        text-align: right;\n",
       "    }\n",
       "</style>\n",
       "<table border=\"1\" class=\"dataframe\">\n",
       "  <thead>\n",
       "    <tr style=\"text-align: right;\">\n",
       "      <th></th>\n",
       "      <th>count</th>\n",
       "      <th>mean</th>\n",
       "      <th>std</th>\n",
       "      <th>min</th>\n",
       "      <th>25%</th>\n",
       "      <th>50%</th>\n",
       "      <th>75%</th>\n",
       "      <th>max</th>\n",
       "    </tr>\n",
       "  </thead>\n",
       "  <tbody>\n",
       "    <tr>\n",
       "      <th>toxic</th>\n",
       "      <td>159571.0</td>\n",
       "      <td>0.095844</td>\n",
       "      <td>0.294379</td>\n",
       "      <td>0.0</td>\n",
       "      <td>0.0</td>\n",
       "      <td>0.0</td>\n",
       "      <td>0.0</td>\n",
       "      <td>1.0</td>\n",
       "    </tr>\n",
       "    <tr>\n",
       "      <th>severe_toxic</th>\n",
       "      <td>159571.0</td>\n",
       "      <td>0.009996</td>\n",
       "      <td>0.099477</td>\n",
       "      <td>0.0</td>\n",
       "      <td>0.0</td>\n",
       "      <td>0.0</td>\n",
       "      <td>0.0</td>\n",
       "      <td>1.0</td>\n",
       "    </tr>\n",
       "    <tr>\n",
       "      <th>obscene</th>\n",
       "      <td>159571.0</td>\n",
       "      <td>0.052948</td>\n",
       "      <td>0.223931</td>\n",
       "      <td>0.0</td>\n",
       "      <td>0.0</td>\n",
       "      <td>0.0</td>\n",
       "      <td>0.0</td>\n",
       "      <td>1.0</td>\n",
       "    </tr>\n",
       "    <tr>\n",
       "      <th>threat</th>\n",
       "      <td>159571.0</td>\n",
       "      <td>0.002996</td>\n",
       "      <td>0.054650</td>\n",
       "      <td>0.0</td>\n",
       "      <td>0.0</td>\n",
       "      <td>0.0</td>\n",
       "      <td>0.0</td>\n",
       "      <td>1.0</td>\n",
       "    </tr>\n",
       "    <tr>\n",
       "      <th>insult</th>\n",
       "      <td>159571.0</td>\n",
       "      <td>0.049364</td>\n",
       "      <td>0.216627</td>\n",
       "      <td>0.0</td>\n",
       "      <td>0.0</td>\n",
       "      <td>0.0</td>\n",
       "      <td>0.0</td>\n",
       "      <td>1.0</td>\n",
       "    </tr>\n",
       "    <tr>\n",
       "      <th>identity_hate</th>\n",
       "      <td>159571.0</td>\n",
       "      <td>0.008805</td>\n",
       "      <td>0.093420</td>\n",
       "      <td>0.0</td>\n",
       "      <td>0.0</td>\n",
       "      <td>0.0</td>\n",
       "      <td>0.0</td>\n",
       "      <td>1.0</td>\n",
       "    </tr>\n",
       "  </tbody>\n",
       "</table>\n",
       "</div>"
      ],
      "text/plain": [
       "                  count      mean       std  min  25%  50%  75%  max\n",
       "toxic          159571.0  0.095844  0.294379  0.0  0.0  0.0  0.0  1.0\n",
       "severe_toxic   159571.0  0.009996  0.099477  0.0  0.0  0.0  0.0  1.0\n",
       "obscene        159571.0  0.052948  0.223931  0.0  0.0  0.0  0.0  1.0\n",
       "threat         159571.0  0.002996  0.054650  0.0  0.0  0.0  0.0  1.0\n",
       "insult         159571.0  0.049364  0.216627  0.0  0.0  0.0  0.0  1.0\n",
       "identity_hate  159571.0  0.008805  0.093420  0.0  0.0  0.0  0.0  1.0"
      ]
     },
     "execution_count": 9,
     "metadata": {},
     "output_type": "execute_result"
    }
   ],
   "source": [
    "# check the structure\n",
    "\n",
    "df.describe().T"
   ]
  },
  {
   "cell_type": "markdown",
   "metadata": {},
   "source": [
    "> Again, you are dealing with your data being sparse. The structure above is a good example."
   ]
  },
  {
   "cell_type": "markdown",
   "metadata": {},
   "source": [
    "For this project, we will be doing a binary classification problem (Toxic, Non-Toxic).\n",
    "Below, we will compress the features to this binary feature, and drop the others."
   ]
  },
  {
   "cell_type": "code",
   "execution_count": 10,
   "metadata": {},
   "outputs": [],
   "source": [
    "# add temp field for aggregation of toxic flags\n",
    "df['temp1'] = df['toxic'] + df['severe_toxic'] + df['obscene'] + df['threat'] + df ['insult'] + df['identity_hate']\n",
    "\n",
    "# add isToxic feature\n",
    "df['istoxic'] = np.where(df['temp1'] ==0,0,1)\n",
    "\n",
    "#drop unneccessary columns\n",
    "\n",
    "df = df.drop(columns=['toxic','severe_toxic','obscene','threat','insult','identity_hate', 'temp1'], axis=1)\n"
   ]
  },
  {
   "cell_type": "markdown",
   "metadata": {},
   "source": [
    "> Nice work. Go into detail explaining the logic behind your feature engineering."
   ]
  },
  {
   "cell_type": "code",
   "execution_count": 42,
   "metadata": {},
   "outputs": [
    {
     "data": {
      "text/html": [
       "<div>\n",
       "<style scoped>\n",
       "    .dataframe tbody tr th:only-of-type {\n",
       "        vertical-align: middle;\n",
       "    }\n",
       "\n",
       "    .dataframe tbody tr th {\n",
       "        vertical-align: top;\n",
       "    }\n",
       "\n",
       "    .dataframe thead th {\n",
       "        text-align: right;\n",
       "    }\n",
       "</style>\n",
       "<table border=\"1\" class=\"dataframe\">\n",
       "  <thead>\n",
       "    <tr style=\"text-align: right;\">\n",
       "      <th></th>\n",
       "      <th>id</th>\n",
       "      <th>comment_text</th>\n",
       "      <th>istoxic</th>\n",
       "    </tr>\n",
       "  </thead>\n",
       "  <tbody>\n",
       "    <tr>\n",
       "      <th>0</th>\n",
       "      <td>0000997932d777bf</td>\n",
       "      <td>Explanation\\nWhy the edits made under my usern...</td>\n",
       "      <td>0</td>\n",
       "    </tr>\n",
       "    <tr>\n",
       "      <th>1</th>\n",
       "      <td>000103f0d9cfb60f</td>\n",
       "      <td>D'aww! He matches this background colour I'm s...</td>\n",
       "      <td>0</td>\n",
       "    </tr>\n",
       "    <tr>\n",
       "      <th>2</th>\n",
       "      <td>000113f07ec002fd</td>\n",
       "      <td>Hey man, I'm really not trying to edit war. It...</td>\n",
       "      <td>0</td>\n",
       "    </tr>\n",
       "    <tr>\n",
       "      <th>3</th>\n",
       "      <td>0001b41b1c6bb37e</td>\n",
       "      <td>\"\\nMore\\nI can't make any real suggestions on ...</td>\n",
       "      <td>0</td>\n",
       "    </tr>\n",
       "    <tr>\n",
       "      <th>4</th>\n",
       "      <td>0001d958c54c6e35</td>\n",
       "      <td>You, sir, are my hero. Any chance you remember...</td>\n",
       "      <td>0</td>\n",
       "    </tr>\n",
       "  </tbody>\n",
       "</table>\n",
       "</div>"
      ],
      "text/plain": [
       "                 id                                       comment_text  \\\n",
       "0  0000997932d777bf  Explanation\\nWhy the edits made under my usern...   \n",
       "1  000103f0d9cfb60f  D'aww! He matches this background colour I'm s...   \n",
       "2  000113f07ec002fd  Hey man, I'm really not trying to edit war. It...   \n",
       "3  0001b41b1c6bb37e  \"\\nMore\\nI can't make any real suggestions on ...   \n",
       "4  0001d958c54c6e35  You, sir, are my hero. Any chance you remember...   \n",
       "\n",
       "   istoxic  \n",
       "0        0  \n",
       "1        0  \n",
       "2        0  \n",
       "3        0  \n",
       "4        0  "
      ]
     },
     "execution_count": 42,
     "metadata": {},
     "output_type": "execute_result"
    }
   ],
   "source": [
    "df.head()"
   ]
  },
  {
   "cell_type": "code",
   "execution_count": 11,
   "metadata": {},
   "outputs": [
    {
     "data": {
      "text/html": [
       "<div>\n",
       "<style scoped>\n",
       "    .dataframe tbody tr th:only-of-type {\n",
       "        vertical-align: middle;\n",
       "    }\n",
       "\n",
       "    .dataframe tbody tr th {\n",
       "        vertical-align: top;\n",
       "    }\n",
       "\n",
       "    .dataframe thead th {\n",
       "        text-align: right;\n",
       "    }\n",
       "</style>\n",
       "<table border=\"1\" class=\"dataframe\">\n",
       "  <thead>\n",
       "    <tr style=\"text-align: right;\">\n",
       "      <th></th>\n",
       "      <th>count</th>\n",
       "      <th>mean</th>\n",
       "      <th>std</th>\n",
       "      <th>min</th>\n",
       "      <th>25%</th>\n",
       "      <th>50%</th>\n",
       "      <th>75%</th>\n",
       "      <th>max</th>\n",
       "    </tr>\n",
       "  </thead>\n",
       "  <tbody>\n",
       "    <tr>\n",
       "      <th>istoxic</th>\n",
       "      <td>159571.0</td>\n",
       "      <td>0.101679</td>\n",
       "      <td>0.302226</td>\n",
       "      <td>0.0</td>\n",
       "      <td>0.0</td>\n",
       "      <td>0.0</td>\n",
       "      <td>0.0</td>\n",
       "      <td>1.0</td>\n",
       "    </tr>\n",
       "  </tbody>\n",
       "</table>\n",
       "</div>"
      ],
      "text/plain": [
       "            count      mean       std  min  25%  50%  75%  max\n",
       "istoxic  159571.0  0.101679  0.302226  0.0  0.0  0.0  0.0  1.0"
      ]
     },
     "execution_count": 11,
     "metadata": {},
     "output_type": "execute_result"
    }
   ],
   "source": [
    "df.describe().T"
   ]
  },
  {
   "cell_type": "code",
   "execution_count": 12,
   "metadata": {},
   "outputs": [
    {
     "data": {
      "text/plain": [
       "istoxic\n",
       "0    143346\n",
       "1     16225\n",
       "Name: istoxic, dtype: int64"
      ]
     },
     "execution_count": 12,
     "metadata": {},
     "output_type": "execute_result"
    }
   ],
   "source": [
    "# Check valid unique values per column\n",
    "df.groupby('istoxic')['istoxic'].count().sort_values(ascending=False)"
   ]
  },
  {
   "cell_type": "markdown",
   "metadata": {},
   "source": [
    "## Data Preprocessing ## "
   ]
  },
  {
   "cell_type": "markdown",
   "metadata": {},
   "source": [
    "Here, we define the function that can structurize and tokenize the comments."
   ]
  },
  {
   "cell_type": "markdown",
   "metadata": {},
   "source": [
    "> Nice work here. You need a page to page and a half describing the process below."
   ]
  },
  {
   "cell_type": "code",
   "execution_count": 45,
   "metadata": {},
   "outputs": [],
   "source": [
    "class NLTKPreprocesor(BaseEstimator,TransformerMixin):\n",
    "    # here, we are defining the initial condition of the calss\n",
    "    def __init__(self,stopwords = None,punct = None,lower = True,strip=True):\n",
    "        self.lower = lower\n",
    "        self.strip = strip\n",
    "        self.stopwords = stopwords or set(sw.words('english'))\n",
    "        self.punct = punct or set(string.punctuation)\n",
    "        self.lemmatizer = WordNetLemmatizer()\n",
    "#        self.contractions = load(open('contractions.pickle','rb'))\n",
    "\n",
    "    def fit(self,X,y=None):\n",
    "        return self\n",
    "\n",
    "    def inverse_transform(self,X):\n",
    "        pass\n",
    "\n",
    "    def transform(self,X):\n",
    "        return [list(self.tokenize(doc)) for doc in X]\n",
    "    \n",
    "    # This is the funciton that break (text) into individual linguistic units.\n",
    "    def tokenize(self,sDocument):\n",
    "        document=sDocument\n",
    "#        doc.strip(\" \")\n",
    "        for sent in sent_tokenize(document):\n",
    "            for token,tag in pos_tag(wordpunct_tokenize(sent)):\n",
    "                token = token.lower() if self.lower else token\n",
    "                token = token.strip() if self.strip else token\n",
    "                token = token.strip('_') if self.strip else token\n",
    "                token = token.strip('*') if self.strip else token\n",
    "                token = token.strip('#') if self.strip else token\n",
    "\n",
    "                if token in self.stopwords:\n",
    "                    continue\n",
    "\n",
    "                if all(char in self.punct for char in token):\n",
    "                    continue\n",
    "\n",
    "                if len(token) <= 0:\n",
    "                    continue\n",
    "\n",
    "                lemma = self.lemmatize(token,tag)\n",
    "                yield lemma\n",
    "\n",
    "    def lemmatize(self,token,tag):\n",
    "        tag ={\n",
    "            'N' : wn.NOUN,\n",
    "            'V' : wn.VERB,\n",
    "            'R' : wn.ADV,\n",
    "            'J' : wn.ADJ\n",
    "        }.get(tag[0],wn.NOUN)\n",
    "        return self.lemmatizer.lemmatize(token,tag)\n",
    "\n",
    "\n",
    "def prepare_data(X,X_t):\n",
    "    preProcess = Pipeline([\n",
    "        ('NLTKpreprocess', NLTKPreprocesor()),\n",
    "        ('vectorizer', TfidfVectorizer(\n",
    "            max_df=0.90,\n",
    "            max_features=5000,\n",
    "            encoding='latin1',\n",
    "            tokenizer=lambda x: x,\n",
    "            preprocessor=None, lowercase=False))\n",
    "    ])\n",
    "    x_train = np.asanyarray(preProcess.fit_transform(X.values).todense())\n",
    "#    x_valid = np.asanyarray(preProcess.fit_transform(X_v.values).todense())    \n",
    "    x_test = np.asanyarray(preProcess.transform(X_t.values).todense())\n",
    "\n",
    "    return x_train,x_test,preProcess\n",
    "\n",
    "\n",
    "def trim(s):\n",
    "    \"\"\"Trim string to fit on terminal (assuming 80-column display)\"\"\"\n",
    "    return s if len(s) <= 80 else s[:77] + \"...\""
   ]
  },
  {
   "cell_type": "markdown",
   "metadata": {},
   "source": [
    "### We are reading and preprocessing the data using already defind function"
   ]
  },
  {
   "cell_type": "code",
   "execution_count": 46,
   "metadata": {},
   "outputs": [],
   "source": [
    "if __name__ == '__main__':\n",
    "    data = pd.read_csv(\"data/train.csv\", dtype=str) ## reading the data from csv file ## \n",
    "    clf = NLTKPreprocesor()\n",
    "    procData = clf.transform(data.loc[:, 'comment_text']) ## preprocessing the comments ## "
   ]
  },
  {
   "cell_type": "code",
   "execution_count": 47,
   "metadata": {},
   "outputs": [
    {
     "name": "stdout",
     "output_type": "stream",
     "text": [
      "(159571,)\n",
      "(159571,)\n"
     ]
    }
   ],
   "source": [
    "pData=np.asarray(procData)\n",
    "print(pData.shape[:])\n",
    "print(data.loc[:,'toxic'].shape[:])"
   ]
  },
  {
   "cell_type": "markdown",
   "metadata": {},
   "source": [
    "### Splitting the data"
   ]
  },
  {
   "cell_type": "markdown",
   "metadata": {},
   "source": [
    "Splitting the data into test section (0.1) and training section (0.9), I simplified the project from multi-label classifier to mono-label classifier just using toxic label. Later the training section is also devided to validation and training sets.\n",
    "\n"
   ]
  },
  {
   "cell_type": "code",
   "execution_count": 48,
   "metadata": {},
   "outputs": [],
   "source": [
    "list_classes = [\"toxic\", \"severe_toxic\", \"obscene\", \"threat\", \"insult\", \"identity_hate\"]\n",
    "X_train, X_test, y_train, y_test=train_test_split(pData, data.loc[:,'toxic'], shuffle=False, test_size=0.1)\n",
    "#trainData=data.loc[:int(Length*0.8),'comment_text'] ## Training Data\n",
    "#validData=data.loc[int(Length*0.8):int(Length*0.9),'comment_text'] ## Validation data \n",
    "#tvData=data.loc[:int(Length*0.9),'comment_text'] ## Validation data \n",
    "#testData=data.loc[int(Length*0.9):,'comment_text'] ## testing data "
   ]
  },
  {
   "cell_type": "markdown",
   "metadata": {},
   "source": [
    "Separating the toxic comments from non-toxic comments for pre-analysis and descriptive statistics"
   ]
  },
  {
   "cell_type": "code",
   "execution_count": 49,
   "metadata": {},
   "outputs": [],
   "source": [
    "toxicX_train=[]\n",
    "NonToxic_train=[]\n",
    "for i,comment in enumerate(X_train):\n",
    "    if int(y_train[i])==1:\n",
    "        toxicX_train.append(comment)\n",
    "    else:\n",
    "        NonToxic_train.append(comment)"
   ]
  },
  {
   "cell_type": "markdown",
   "metadata": {},
   "source": [
    "Comment length distribution after preprocessing for label and non-labeled comments"
   ]
  },
  {
   "cell_type": "code",
   "execution_count": 50,
   "metadata": {},
   "outputs": [
    {
     "data": {
      "image/png": "[encoded data removed]",
      "text/plain": [
       "<Figure size 432x288 with 1 Axes>"
      ]
     },
     "metadata": {
      "needs_background": "light"
     },
     "output_type": "display_data"
    }
   ],
   "source": [
    "totalNumWords = [len(one_comment) for one_comment in X_train]\n",
    "plt.hist(totalNumWords,bins = np.arange(0,410,10))#[0,50,100,150,200,250,300,350,400])#,450,500,550,600,650,700,750,800,850,900])\n",
    "plt.title(\"Length Histogram\")\n",
    "plt.xlabel(\"Number of Words in a comment\")\n",
    "plt.ylabel(\"Frequency\")\n",
    "plt.show()\n"
   ]
  },
  {
   "cell_type": "markdown",
   "metadata": {},
   "source": [
    "We are plotting the overal distribution of words in toxic and non-toxic comments. "
   ]
  },
  {
   "cell_type": "code",
   "execution_count": 51,
   "metadata": {},
   "outputs": [
    {
     "data": {
      "image/png": "[encoded data removed]",
      "text/plain": [
       "<Figure size 432x288 with 1 Axes>"
      ]
     },
     "metadata": {
      "needs_background": "light"
     },
     "output_type": "display_data"
    }
   ],
   "source": [
    "plt.clf()\n",
    "ToxicNumWords = [len(one_comment) for one_comment in toxicX_train]\n",
    "plt.hist(ToxicNumWords,bins = np.arange(0,410,10))#[0,50,100,150,200,250,300,350,400])#,450,500,550,600,650,700,750,800,850,900])\n",
    "plt.title(\"Length histogram of Toxic Comments\")\n",
    "plt.xlabel(\"Number of Words in a comment\")\n",
    "plt.ylabel(\"Frequency\")\n",
    "plt.show()"
   ]
  },
  {
   "cell_type": "code",
   "execution_count": 52,
   "metadata": {},
   "outputs": [
    {
     "data": {
      "image/png": "[encoded data removed]",
      "text/plain": [
       "<Figure size 432x288 with 1 Axes>"
      ]
     },
     "metadata": {
      "needs_background": "light"
     },
     "output_type": "display_data"
    }
   ],
   "source": [
    "plt.clf()\n",
    "NonToxicNumWords = [len(one_comment) for one_comment in NonToxic_train]\n",
    "plt.hist(NonToxicNumWords,bins = np.arange(0,410,10))#[0,50,100,150,200,250,300,350,400])#,450,500,550,600,650,700,750,800,850,900])\n",
    "plt.xlabel(\"Number of Words in a comment\")\n",
    "plt.title(\"Length histogram of Non-Toxic Comments\")\n",
    "plt.ylabel(\"Frequency\")\n",
    "plt.show()"
   ]
  },
  {
   "cell_type": "markdown",
   "metadata": {},
   "source": [
    "putting the toxic and non-toxic comments separated numpy arrays # \n",
    "Printing the number of nont-toxic and toxic comments #"
   ]
  },
  {
   "cell_type": "code",
   "execution_count": 53,
   "metadata": {},
   "outputs": [
    {
     "name": "stdout",
     "output_type": "stream",
     "text": [
      "4775000\n"
     ]
    }
   ],
   "source": [
    "\n",
    "print (np.asarray(NonToxicNumWords).sum())\n",
    "ntoxic_text_train=[]\n",
    "for x in NonToxic_train:\n",
    "    x=' '.join(x)\n",
    "    ntoxic_text_train.append(x.encode('utf-8'))\n",
    "\n",
    "ntoxic_text_train=np.asarray(ntoxic_text_train)"
   ]
  },
  {
   "cell_type": "code",
   "execution_count": 54,
   "metadata": {},
   "outputs": [
    {
     "name": "stdout",
     "output_type": "stream",
     "text": [
      "397084\n"
     ]
    }
   ],
   "source": [
    "print(np.asarray(ToxicNumWords).sum())\n",
    "toxic_text_train=[]\n",
    "for x in toxicX_train:\n",
    "    x=' '.join(x)\n",
    "    toxic_text_train.append(x.encode('utf-8'))\n",
    "\n",
    "toxic_text_train=np.asarray(toxic_text_train)"
   ]
  },
  {
   "cell_type": "code",
   "execution_count": 55,
   "metadata": {},
   "outputs": [
    {
     "name": "stdout",
     "output_type": "stream",
     "text": [
      "5172084\n"
     ]
    }
   ],
   "source": [
    "print(np.asarray(totalNumWords).sum())\n",
    "text_train=[]\n",
    "for x in X_train:\n",
    "    x=' '.join(x)\n",
    "    text_train.append(x.encode('utf-8'))\n",
    "\n",
    "text_test=[]\n",
    "for x in X_test:\n",
    "    x=' '.join(x)\n",
    "    text_test.append(x.encode('utf-8'))\n",
    "text_train=np.asarray(text_train)\n",
    "text_test=np.asarray(text_test)"
   ]
  },
  {
   "cell_type": "markdown",
   "metadata": {},
   "source": [
    "Plotting the pie histogram of imbalanced number of (toxic, non-toxic) comments"
   ]
  },
  {
   "cell_type": "code",
   "execution_count": 56,
   "metadata": {},
   "outputs": [
    {
     "data": {
      "image/png": "[encoded data removed]",
      "text/plain": [
       "<Figure size 432x288 with 1 Axes>"
      ]
     },
     "metadata": {},
     "output_type": "display_data"
    }
   ],
   "source": [
    "import matplotlib.pyplot as plt\n",
    " \n",
    "# Data to plot\n",
    "labels ='Non-Toxic', 'Toxic'\n",
    "#title=\"Imbalanced classes\"\n",
    "sizes = [4774994, 397084]\n",
    "colors = ['gold', 'lightskyblue']#, 'lightcoral', 'lightskyblue']\n",
    "explode = (0.1, 0)  # explode 1st slice\n",
    " \n",
    "# Plot\n",
    "plt.pie(sizes, explode=explode, labels=labels, colors=colors,\n",
    "        autopct='%1.1f%%', shadow=True, startangle=140)\n",
    " \n",
    "plt.axis('equal')\n",
    "plt.show()\n"
   ]
  },
  {
   "cell_type": "markdown",
   "metadata": {},
   "source": [
    "Importing keras libraries for both tokenizing and LSTM-RNN classification\n",
    "\n",
    "Tokenizing the comments\n",
    "\n",
    "Later, I printed the most common words for both toxic and non-toxic comments separated."
   ]
  },
  {
   "cell_type": "markdown",
   "metadata": {},
   "source": [
    "<a id=\"results\"></a>\n",
    "## Results\n",
    "\n",
    "<a href=\"#top\">Back to Top</a>"
   ]
  },
  {
   "cell_type": "markdown",
   "metadata": {},
   "source": [
    "In order to apply NLP algorithms, we need to call Keras and Tensorflow libraries. To do so, first we would install these libraries and then import them"
   ]
  },
  {
   "cell_type": "markdown",
   "metadata": {},
   "source": [
    "> Need a section that describes NLP. \n",
    ">> Describe tokenization, stem words, etc. The audience is technical, but these concepts need to be explained."
   ]
  },
  {
   "cell_type": "code",
   "execution_count": 57,
   "metadata": {},
   "outputs": [],
   "source": [
    "from keras.preprocessing.text import Tokenizer\n",
    "# Any results you write \n",
    "\n",
    "from keras.layers import Input, Dense\n",
    "from keras.models import Model\n",
    "from keras.layers import Flatten\n",
    "from keras.layers.embeddings import Embedding\n",
    "from keras.layers import LSTM\n",
    "from keras.layers import GlobalMaxPool1D\n",
    "from keras.layers import Dropout\n",
    "from keras.preprocessing.sequence import pad_sequences\n",
    "from keras.callbacks import ModelCheckpoint\n",
    "\n",
    "max_features = 20000\n",
    "tokenizer = Tokenizer(num_words=max_features)\n",
    "list_text_train=[]\n",
    "L=np.asarray(text_train).tolist()\n",
    "for i in range(len(L)):\n",
    "    list_text_train.append(str(L[i]))\n",
    "    \n",
    "tokenizer.fit_on_texts(list_text_train)"
   ]
  },
  {
   "cell_type": "markdown",
   "metadata": {},
   "source": [
    "Now, we are taking a look at number of words in non-labled and labled comments. Since we have tokenized the comments, we are able to sort and analyze these sentences."
   ]
  },
  {
   "cell_type": "code",
   "execution_count": 58,
   "metadata": {},
   "outputs": [
    {
     "name": "stdout",
     "output_type": "stream",
     "text": [
      "Popular words in non-labeled Comments\n",
      "192921\n",
      "('article', 64071)\n",
      "('page', 49322)\n",
      "('wikipedia', 41866)\n",
      "('use', 29122)\n",
      "('talk', 28721)\n",
      "('xe2', 27586)\n",
      "('one', 26770)\n",
      "('make', 26756)\n",
      "('would', 25639)\n",
      "('like', 25188)\n",
      "('edit', 24562)\n",
      "('x80', 23781)\n",
      "('please', 23433)\n",
      "('see', 21872)\n",
      "('say', 21817)\n",
      "('think', 20376)\n",
      "('know', 20330)\n",
      "('source', 20132)\n",
      "('get', 19050)\n"
     ]
    }
   ],
   "source": [
    "import operator\n",
    "z=tokenizer.word_counts\n",
    "sorted_tokens = sorted(z.items(), key=operator.itemgetter(1))\n",
    "L=len(sorted_tokens)\n",
    "print(\"Popular words in non-labeled Comments\")\n",
    "print(L)\n",
    "for i in range(L-1,L-20,-1):\n",
    "    print(sorted_tokens[i])"
   ]
  },
  {
   "cell_type": "markdown",
   "metadata": {},
   "source": [
    "In this step, we are making a list of toxic comments and then we will sort them."
   ]
  },
  {
   "cell_type": "code",
   "execution_count": 59,
   "metadata": {},
   "outputs": [],
   "source": [
    "ToxicTokenizer = Tokenizer(num_words=max_features)\n",
    "list_toxic_text_train=[]\n",
    "L=np.asarray(toxic_text_train).tolist()\n",
    "for i in range(len(L)):\n",
    "    list_toxic_text_train.append(str(L[i]))\n",
    "\n",
    "ToxicTokenizer.fit_on_texts(list(np.asarray(list_toxic_text_train)))"
   ]
  },
  {
   "cell_type": "code",
   "execution_count": 60,
   "metadata": {},
   "outputs": [],
   "source": [
    "tz=ToxicTokenizer.word_counts\n",
    "toxic_sorted_tokens = sorted(tz.items(), key=operator.itemgetter(1))"
   ]
  },
  {
   "cell_type": "markdown",
   "metadata": {},
   "source": [
    "Okay, now let's take a look at popular toxic comments."
   ]
  },
  {
   "cell_type": "code",
   "execution_count": 61,
   "metadata": {},
   "outputs": [
    {
     "name": "stdout",
     "output_type": "stream",
     "text": [
      "Popular words in Toxic Comments\n",
      "('fuck', 9279)\n",
      "('suck', 4234)\n",
      "('like', 3230)\n",
      "('wikipedia', 3200)\n",
      "('shit', 3192)\n",
      "('go', 3170)\n",
      "('u', 3064)\n",
      "('nigger', 2984)\n",
      "('get', 2623)\n",
      "('page', 2197)\n",
      "('know', 2118)\n",
      "('hate', 2047)\n",
      "('die', 2039)\n",
      "('gay', 2024)\n",
      "('bitch', 1908)\n",
      "('faggot', 1854)\n",
      "('moron', 1807)\n",
      "('make', 1767)\n",
      "('fucking', 1686)\n"
     ]
    }
   ],
   "source": [
    "tL=len(toxic_sorted_tokens)\n",
    "#print L\n",
    "print(\"Popular words in Toxic Comments\")\n",
    "for i in range(tL-1,tL-20,-1):\n",
    "    print(toxic_sorted_tokens[i])"
   ]
  },
  {
   "cell_type": "markdown",
   "metadata": {},
   "source": [
    "Here, we are making a list of non toxic comments and then we would sort them accordingly."
   ]
  },
  {
   "cell_type": "code",
   "execution_count": 62,
   "metadata": {},
   "outputs": [],
   "source": [
    "NonToxicTokenizer = Tokenizer(num_words=max_features)\n",
    "list_ntoxic_text_train=[]\n",
    "L=np.asarray(ntoxic_text_train).tolist()\n",
    "for i in range(len(L)):\n",
    "    list_ntoxic_text_train.append(str(L[i]))\n",
    "\n",
    "NonToxicTokenizer.fit_on_texts(list_ntoxic_text_train)"
   ]
  },
  {
   "cell_type": "code",
   "execution_count": 63,
   "metadata": {},
   "outputs": [],
   "source": [
    "ntz=NonToxicTokenizer.word_counts\n",
    "ntoxic_sorted_tokens = sorted(ntz.items(), key=operator.itemgetter(1))"
   ]
  },
  {
   "cell_type": "markdown",
   "metadata": {},
   "source": [
    "Now, let's take a look at popular non-toxic comments."
   ]
  },
  {
   "cell_type": "code",
   "execution_count": 64,
   "metadata": {},
   "outputs": [
    {
     "name": "stderr",
     "output_type": "stream",
     "text": [
      "IOPub data rate exceeded.\n",
      "The notebook server will temporarily stop sending output\n",
      "to the client in order to avoid crashing it.\n",
      "To change this limit, set the config variable\n",
      "`--NotebookApp.iopub_data_rate_limit`.\n",
      "\n",
      "Current values:\n",
      "NotebookApp.iopub_data_rate_limit=1000000.0 (bytes/sec)\n",
      "NotebookApp.rate_limit_window=3.0 (secs)\n",
      "\n"
     ]
    }
   ],
   "source": [
    "nL = len(ntoxic_sorted_tokens)\n",
    "print( \"Popular words in Non-Toxic Comments\")\n",
    "print (L)\n",
    "for i in range(nL-1,nL-20,-1):\n",
    "    print (ntoxic_sorted_tokens[i])"
   ]
  },
  {
   "cell_type": "markdown",
   "metadata": {},
   "source": [
    "## Naive Bayes?"
   ]
  },
  {
   "cell_type": "markdown",
   "metadata": {},
   "source": [
    "> This seems to be a reasonable alternative. Need to explain why and have a model to compare to LSTM."
   ]
  },
  {
   "cell_type": "code",
   "execution_count": null,
   "metadata": {},
   "outputs": [],
   "source": []
  },
  {
   "cell_type": "markdown",
   "metadata": {},
   "source": [
    "# Tf-idf transformation to be fed in Multinomial NB classifier\n",
    "\n"
   ]
  },
  {
   "cell_type": "markdown",
   "metadata": {},
   "source": [
    "In order to feed the data to any of NLP algorithm, we need to convert the text into sequence in both train and text dataset. "
   ]
  },
  {
   "cell_type": "code",
   "execution_count": 65,
   "metadata": {},
   "outputs": [],
   "source": [
    "list_text_train=[]\n",
    "L=np.asarray(text_train).tolist()\n",
    "for i in range(len(L)):\n",
    "    list_text_train.append(str(L[i]))\n",
    "    \n",
    "list_text_test=[]\n",
    "L=np.asarray(text_test).tolist()\n",
    "for i in range(len(L)):\n",
    "    list_text_test.append(str(L[i]))    \n",
    "\n",
    "list_tokenized_train = tokenizer.texts_to_sequences(list_text_train) \n",
    "list_tokenized_test = tokenizer.texts_to_sequences(list_text_test)  "
   ]
  },
  {
   "cell_type": "markdown",
   "metadata": {},
   "source": [
    "Now, let's convert a collection of raw documents to a matrix of TF-IDF features."
   ]
  },
  {
   "cell_type": "code",
   "execution_count": 66,
   "metadata": {},
   "outputs": [
    {
     "name": "stdout",
     "output_type": "stream",
     "text": [
      "(143613, 20000)\n",
      "(15958, 20000)\n"
     ]
    }
   ],
   "source": [
    "#from sklearn.feature_extraction.text import TfidfTransformer\n",
    "from sklearn.feature_extraction.text import TfidfVectorizer\n",
    "tfidf= TfidfVectorizer(\n",
    "            max_df=0.90,\n",
    "            max_features=20000,\n",
    "            encoding='latin1',\n",
    "            preprocessor=None, lowercase=False)\n",
    "tfidf.fit(list(np.asarray(text_train)))\n",
    "tfidf_text_train =tfidf.transform(list(np.asarray(text_train)))\n",
    "tfidf_text_test =tfidf.transform(list(np.asarray(text_test)))\n",
    "print(tfidf_text_train.shape[:])\n",
    "print(tfidf_text_test.shape[:])\n",
    "#print ZZ[1,1]"
   ]
  },
  {
   "cell_type": "markdown",
   "metadata": {},
   "source": [
    "# Start the phase for Solution model, LSTM-RNN\n",
    "Start padding the comments with fixed size of 100, chosen from comment length distribution "
   ]
  },
  {
   "cell_type": "code",
   "execution_count": 67,
   "metadata": {},
   "outputs": [],
   "source": [
    "maxlength=100\n",
    "paddedTrain=pad_sequences(list_tokenized_train,maxlen=maxlength) # Padding the traning section\n",
    "paddedTest=pad_sequences(list_tokenized_test,maxlen=maxlength) # Padding the testing section "
   ]
  },
  {
   "cell_type": "markdown",
   "metadata": {},
   "source": [
    "Now, let define LSTM classifiers. We are defining hyper-features of classifies and then return the model."
   ]
  },
  {
   "cell_type": "code",
   "execution_count": 68,
   "metadata": {},
   "outputs": [],
   "source": [
    "from keras.layers import Input, Dense\n",
    "from keras.models import Model\n",
    "from keras.layers import Flatten\n",
    "from keras.layers.embeddings import Embedding\n",
    "from keras.layers import LSTM\n",
    "from keras.layers import GlobalMaxPool1D\n",
    "from keras.layers import Dropout\n",
    "from keras.models import Sequential \n",
    "\n",
    "def LSTM_Classifier(embDim=128, lstmDim=60, hidDim=50, outDim=6, maxlen=50, max_features=20000):\n",
    "    model=Sequential()\n",
    "    model.add(Embedding(max_features, embDim, input_length=maxlen))\n",
    "    model.add(LSTM(lstmDim, return_sequences=True, name='lstm_layer'))\n",
    "    model.add(GlobalMaxPool1D())\n",
    "    model.add(Dropout(0.1))\n",
    "    model.add(Dense(hidDim, activation='relu'))\n",
    "    model.add(Dropout(0.1))\n",
    "    model.add(Dense(outDim, activation='sigmoid'))\n",
    "#    model=Model(inp,x)\n",
    "    model.compile(loss='binary_crossentropy',\n",
    "                  optimizer='adam',\n",
    "                  metrics=['accuracy'])\n",
    "#    model.summary()\n",
    "    return model "
   ]
  },
  {
   "cell_type": "markdown",
   "metadata": {},
   "source": [
    "## LSTM Architecture #\n",
    "\n",
    "> I am totally on board with using LSTM as primary method of analysis. That said:\n",
    "\n",
    "> We need a strong baseline measurement. \n",
    ">> This allows us to say, \"LSTM performed x percent better than our baseline.\n",
    "\n",
    "> The LSTM Architeture is one of the most important parts of the report. You can standout by displaying a deep knowledge of the intricacies of the algorithm.\n",
    "\n",
    "> You need to have a writeup describing **LSTM**....very detailed!!!!\n",
    "\n",
    "> This also means that you are going to need to have a brief writeup describing **Deep Learning**\n",
    "\n",
    "> Why are you using these embedded dimension and why 128. Same for the rest of the diminsions and features?\n",
    "\n",
    "> Why you using a dropout ratio of 0.1?\n",
    "\n",
    "> Justify and explain the loss, optimizer, and metrics functions. What are the alternatives and why did you use these?\n"
   ]
  },
  {
   "cell_type": "code",
   "execution_count": 69,
   "metadata": {},
   "outputs": [],
   "source": [
    "from keras.layers import Input, Dense\n",
    "from keras.models import Model\n",
    "from keras.layers import Flatten\n",
    "from keras.layers.embeddings import Embedding\n",
    "from keras.layers import LSTM\n",
    "from keras.layers import GlobalMaxPool1D\n",
    "from keras.layers import Dropout\n",
    "from keras.models import Sequential\n",
    "from keras.callbacks import ModelCheckpoint\n",
    "\n",
    "def LSTM_Classifier(embDim=128, lstmDim=60, hidDim=50, outDim=6, maxlen=50, max_features=20000):\n",
    "    model=Sequential()\n",
    "    model.add(Embedding(max_features, embDim, input_length=maxlen))\n",
    "    model.add(LSTM(lstmDim, return_sequences=True, name='lstm_layer'))\n",
    "    model.add(GlobalMaxPool1D())\n",
    "    model.add(Dropout(0.1))\n",
    "    model.add(Dense(hidDim, activation='relu'))\n",
    "    model.add(Dropout(0.1))\n",
    "    model.add(Dense(outDim, activation='sigmoid'))\n",
    "#    model=Model(inp,x)\n",
    "    model.compile(loss='binary_crossentropy',\n",
    "                  optimizer='adam',\n",
    "                  metrics=['accuracy'])\n",
    "#    model.summary()\n",
    "    return model "
   ]
  },
  {
   "cell_type": "markdown",
   "metadata": {},
   "source": [
    "Having the classifeirs, it is time to import classifeirs and then saved teh trained weights for extended use."
   ]
  },
  {
   "cell_type": "markdown",
   "metadata": {},
   "source": [
    "> Need to discuss the following: **Feedfoward Networks, Recurrent Networks, Backpropagation, Vanishing and exploding gradients** "
   ]
  },
  {
   "cell_type": "code",
   "execution_count": 71,
   "metadata": {},
   "outputs": [
    {
     "name": "stdout",
     "output_type": "stream",
     "text": [
      "_________________________________________________________________\n",
      "Layer (type)                 Output Shape              Param #   \n",
      "=================================================================\n",
      "embedding_11 (Embedding)     (None, 100, 128)          2560000   \n",
      "_________________________________________________________________\n",
      "lstm_layer (LSTM)            (None, 100, 60)           45360     \n",
      "_________________________________________________________________\n",
      "global_max_pooling1d_11 (Glo (None, 60)                0         \n",
      "_________________________________________________________________\n",
      "dropout_21 (Dropout)         (None, 60)                0         \n",
      "_________________________________________________________________\n",
      "dense_21 (Dense)             (None, 50)                3050      \n",
      "_________________________________________________________________\n",
      "dropout_22 (Dropout)         (None, 50)                0         \n",
      "_________________________________________________________________\n",
      "dense_22 (Dense)             (None, 1)                 51        \n",
      "=================================================================\n",
      "Total params: 2,608,461\n",
      "Trainable params: 2,608,461\n",
      "Non-trainable params: 0\n",
      "_________________________________________________________________\n"
     ]
    }
   ],
   "source": [
    "# Importing LSTM Classifier,\n",
    "#I have written a function for making the architecture using the given inputs for LSTM classifier #\n",
    "checkCLF=LSTM_Classifier(embDim=128, lstmDim=60, hidDim=50, outDim=1, maxlen=100)\n",
    "checkCLF.summary()\n",
    "Path='weights.best.RNN.' # I saved the trained weights for extended use and transfer learning # \n",
    "checkpoint=ModelCheckpoint(filepath=Path,\n",
    "                           verbose=1, save_best_only=True)\n",
    "                               "
   ]
  },
  {
   "cell_type": "markdown",
   "metadata": {},
   "source": [
    "## Fitting the model #"
   ]
  },
  {
   "cell_type": "markdown",
   "metadata": {},
   "source": [
    "It is time to fit the model with our train data. We are using Epochs approach. In this approch, that is similar to Cross validation, we are choosing the epochs that gives the best accuracy and use that model for validation."
   ]
  },
  {
   "cell_type": "markdown",
   "metadata": {},
   "source": [
    "> 5 epochs is not enough, not nearly enough. I could run this through AWS to save time.\n",
    "\n",
    "> Need a good explanation as to what is going on here. ie, why this validation split, why this batch size\n",
    "\n",
    "> We need to discuss **LSTM Hyperparameter Tuning**"
   ]
  },
  {
   "cell_type": "code",
   "execution_count": 72,
   "metadata": {},
   "outputs": [
    {
     "name": "stdout",
     "output_type": "stream",
     "text": [
      "WARNING:tensorflow:From C:\\Users\\sarazaheri\\Anaconda3\\lib\\site-packages\\tensorflow\\python\\ops\\math_ops.py:3066: to_int32 (from tensorflow.python.ops.math_ops) is deprecated and will be removed in a future version.\n",
      "Instructions for updating:\n",
      "Use tf.cast instead.\n",
      "WARNING:tensorflow:From C:\\Users\\sarazaheri\\Anaconda3\\lib\\site-packages\\tensorflow\\python\\ops\\math_grad.py:102: div (from tensorflow.python.ops.math_ops) is deprecated and will be removed in a future version.\n",
      "Instructions for updating:\n",
      "Deprecated in favor of operator or tf.math.divide.\n",
      "Train on 129251 samples, validate on 14362 samples\n",
      "Epoch 1/5\n",
      "129251/129251 [==============================] - 260s 2ms/step - loss: 0.1944 - acc: 0.9370 - val_loss: 0.1152 - val_acc: 0.9597\n",
      "\n",
      "Epoch 00001: val_loss improved from inf to 0.11517, saving model to weights.best.RNN.\n",
      "Epoch 2/5\n",
      "129251/129251 [==============================] - 220s 2ms/step - loss: 0.1000 - acc: 0.9636 - val_loss: 0.1133 - val_acc: 0.9601\n",
      "\n",
      "Epoch 00002: val_loss improved from 0.11517 to 0.11327, saving model to weights.best.RNN.\n",
      "Epoch 3/5\n",
      "129251/129251 [==============================] - 186s 1ms/step - loss: 0.0786 - acc: 0.9708 - val_loss: 0.1323 - val_acc: 0.9577\n",
      "\n",
      "Epoch 00003: val_loss did not improve from 0.11327\n",
      "Epoch 4/5\n",
      "129251/129251 [==============================] - 186s 1ms/step - loss: 0.0603 - acc: 0.9783 - val_loss: 0.1452 - val_acc: 0.9518\n",
      "\n",
      "Epoch 00004: val_loss did not improve from 0.11327\n",
      "Epoch 5/5\n",
      "129251/129251 [==============================] - 185s 1ms/step - loss: 0.0449 - acc: 0.9839 - val_loss: 0.1730 - val_acc: 0.9533\n",
      "\n",
      "Epoch 00005: val_loss did not improve from 0.11327\n"
     ]
    }
   ],
   "source": [
    "epochs=5\n",
    "history=checkCLF.fit(paddedTrain, y_train, validation_split=0.1,\n",
    "                epochs=epochs,\n",
    "                batch_size=256,\n",
    "                callbacks=[checkpoint], verbose=1,\n",
    "                )"
   ]
  },
  {
   "cell_type": "markdown",
   "metadata": {},
   "source": [
    "In this step, we predict the model in test data set"
   ]
  },
  {
   "cell_type": "code",
   "execution_count": 73,
   "metadata": {},
   "outputs": [],
   "source": [
    "BestTrainPred=checkCLF.predict(paddedTrain) ## Predicting the results for test and training section using trained LSTM Classifier ##\n",
    "BestTestPred=checkCLF.predict(paddedTest)"
   ]
  },
  {
   "cell_type": "markdown",
   "metadata": {},
   "source": [
    "Here, we are evaluating the predicted model using probablistics metrics with threshhold of 0.5."
   ]
  },
  {
   "cell_type": "code",
   "execution_count": 77,
   "metadata": {},
   "outputs": [],
   "source": [
    "## binary formatting the probability predictions ## \n",
    "# Setting the threshhold 0.5 #\n",
    "BinaryTrainPred=np.zeros(BestTrainPred.shape[:])\n",
    "BinaryTestPred=np.zeros(BestTestPred.shape[:])\n",
    "\n",
    "for i in range(len(BestTrainPred)):\n",
    "    for j in range(1):\n",
    "        if BestTrainPred[i,j] >= 0.5:\n",
    "            BinaryTrainPred[i,j]=1\n",
    "        else:\n",
    "            BinaryTrainPred[i,j]=0\n",
    "            \n",
    "for i in range(len(BestTestPred)):\n",
    "    for j in range(1):\n",
    "        if BestTestPred[i,j] >= 0.5:\n",
    "            BinaryTestPred[i,j]=1\n",
    "        else:\n",
    "            BinaryTestPred[i,j]=0"
   ]
  },
  {
   "cell_type": "markdown",
   "metadata": {},
   "source": [
    "## Start measuring the metrics over the performance of our solution model #"
   ]
  },
  {
   "cell_type": "markdown",
   "metadata": {},
   "source": [
    "> Nice work here. I like how you are using a confusion matrix to measure the performance of the model.\n",
    "\n",
    "> Have a writeup of the metrics that you are using. What led you to use a confusion matrix. Is this the best option? What are the alternatives?"
   ]
  },
  {
   "cell_type": "code",
   "execution_count": 78,
   "metadata": {},
   "outputs": [],
   "source": [
    "from sklearn.metrics import hamming_loss\n",
    "from sklearn.metrics import accuracy_score\n",
    "from sklearn.metrics import f1_score, fbeta_score  \n",
    "from sklearn.metrics import precision_score\n",
    "from sklearn.metrics import recall_score\n",
    "from sklearn.metrics import confusion_matrix\n",
    "#from sklearn.metrics import jaccard_similarity_score\n",
    "from functools import partial\n",
    "from collections import defaultdict \n",
    "\n",
    "METRICS = {\n",
    "    \"confusion_matrix\":confusion_matrix,\n",
    "    \"hamming_loss\": hamming_loss,\n",
    "    \"accuracy\": accuracy_score,\n",
    "    \"precision\": precision_score,     \n",
    "    \"recall\": recall_score, \n",
    "    \"f1\": f1_score,\n",
    "    \"f2\": partial(fbeta_score, beta=2),\n",
    "}\n",
    "\n",
    "ytest=y_test.tolist()\n",
    "Y=[]\n",
    "for i in range(len(ytest)):\n",
    "    Y.append(int(ytest[i]))\n",
    "\n",
    "records = defaultdict(dict)\n",
    "list_classes=[]\n",
    "list_classes.append(\"toxic\")\n",
    "for metric_name,metric in METRICS.items():\n",
    "    records[metric_name][list_classes[0]]=metric(Y,BinaryTestPred[:,0])\n",
    "    "
   ]
  },
  {
   "cell_type": "code",
   "execution_count": 79,
   "metadata": {},
   "outputs": [
    {
     "name": "stdout",
     "output_type": "stream",
     "text": [
      "{'accuracy': {'toxic': 0.9528763002882567},\n",
      " 'confusion_matrix': {'toxic': array([[14180,   235],\n",
      "       [  517,  1026]], dtype=int64)},\n",
      " 'f1': {'toxic': 0.7318116975748931},\n",
      " 'f2': {'toxic': 0.6901654782725682},\n",
      " 'hamming_loss': {'toxic': 0.04712369971174333},\n",
      " 'precision': {'toxic': 0.8136399682791435},\n",
      " 'recall': {'toxic': 0.6649384316267012}}\n"
     ]
    }
   ],
   "source": [
    "from pprint import pprint\n",
    "pprint(dict(records))"
   ]
  },
  {
   "cell_type": "markdown",
   "metadata": {},
   "source": [
    "## Plotting confusion matrix for LSTM (Solution model) #"
   ]
  },
  {
   "cell_type": "code",
   "execution_count": 82,
   "metadata": {},
   "outputs": [],
   "source": [
    "## Use sklearn notes: link: http://scikit-learn.org/stable/auto_examples/model_selection/plot_confusion_matrix.html#sphx-glr-auto-examples-model-selection-plot-confusion-matrix-py\n",
    "## Confusion matrix plotter ## \n",
    "import itertools\n",
    "import numpy as np\n",
    "import matplotlib.pyplot as plt\n",
    "from sklearn.metrics import confusion_matrix\n",
    "\n",
    "def plot_confusion_matrix(cm, classes,\n",
    "                          normalize=False,\n",
    "                          title='Confusion matrix',\n",
    "                          cmap=plt.cm.Blues):\n",
    "    \"\"\"\n",
    "    This function prints and plots the confusion matrix.\n",
    "    Normalization can be applied by setting `normalize=True`.\n",
    "    \"\"\"\n",
    "    if normalize:\n",
    "        cm = cm.astype('float') / cm.sum(axis=1)[:, np.newaxis]\n",
    "        print(\"Normalized confusion matrix\")\n",
    "    else:\n",
    "        print('Confusion matrix, without normalization')\n",
    "\n",
    "    print(cm)\n",
    "\n",
    "    plt.imshow(cm, interpolation='nearest', cmap=cmap)\n",
    "    plt.title(title)\n",
    "    plt.colorbar()\n",
    "    tick_marks = np.arange(len(classes))\n",
    "    plt.xticks(tick_marks, classes, rotation=45)\n",
    "    plt.yticks(tick_marks, classes)\n",
    "\n",
    "    fmt = '.4f' if normalize else 'd'\n",
    "    thresh = cm.max() / 2.\n",
    "    for i, j in itertools.product(range(cm.shape[0]), range(cm.shape[1])):\n",
    "        plt.text(j, i, format(cm[i, j], fmt),\n",
    "                 horizontalalignment=\"center\",\n",
    "                 color=\"white\" if cm[i, j] > thresh else \"black\")\n",
    "\n",
    "    plt.tight_layout()\n",
    "    plt.ylabel('True label')\n",
    "    plt.xlabel('Predicted label')"
   ]
  },
  {
   "cell_type": "code",
   "execution_count": 83,
   "metadata": {},
   "outputs": [
    {
     "name": "stdout",
     "output_type": "stream",
     "text": [
      "Confusion matrix, without normalization\n",
      "[[14180   235]\n",
      " [  517  1026]]\n"
     ]
    },
    {
     "data": {
      "text/plain": [
       "<Figure size 432x288 with 0 Axes>"
      ]
     },
     "metadata": {},
     "output_type": "display_data"
    },
    {
     "data": {
      "image/png": "[encoded data removed]",
      "text/plain": [
       "<Figure size 432x288 with 2 Axes>"
      ]
     },
     "metadata": {
      "needs_background": "light"
     },
     "output_type": "display_data"
    }
   ],
   "source": [
    "\n",
    "plt.clf()\n",
    "plt.figure()\n",
    "plot_confusion_matrix(records[\"confusion_matrix\"][\"toxic\"],[\"Non-Toxic\",\"Toxic\"],normalize=False,title='Confusion Matrix')\n",
    "plt.show()"
   ]
  },
  {
   "cell_type": "code",
   "execution_count": 84,
   "metadata": {},
   "outputs": [
    {
     "name": "stdout",
     "output_type": "stream",
     "text": [
      "Normalized confusion matrix\n",
      "[[0.98369754 0.01630246]\n",
      " [0.33506157 0.66493843]]\n"
     ]
    },
    {
     "data": {
      "image/png": "[encoded data removed]",
      "text/plain": [
       "<Figure size 432x288 with 2 Axes>"
      ]
     },
     "metadata": {
      "needs_background": "light"
     },
     "output_type": "display_data"
    }
   ],
   "source": [
    "# I have used a code suggested in sklearn for plotting confusion matrix, check the  plot_confusion_matrix.py in this folder\n",
    "# The link is documented inside its file \n",
    "from plot_confusion_matrix import plot_confusion_matrix\n",
    "plt.figure()\n",
    "plot_confusion_matrix(records[\"confusion_matrix\"][\"toxic\"],[\"Non-Toxic\",\"Toxic\"],normalize=True,title='Normalized confusion matrix')\n",
    "plt.show()"
   ]
  },
  {
   "cell_type": "markdown",
   "metadata": {},
   "source": [
    "<a id=\"conclude\"></a>\n",
    "\n",
    "## Conclusion\n",
    "\n",
    "<a href=\"#top\">Back to Top</a>"
   ]
  },
  {
   "cell_type": "code",
   "execution_count": null,
   "metadata": {},
   "outputs": [],
   "source": []
  },
  {
   "cell_type": "markdown",
   "metadata": {},
   "source": [
    "<a id=\"ref\"></a>\n",
    "\n",
    "## References\n",
    "\n",
    "<a href=\"#top\">Back to Top</a>"
   ]
  },
  {
   "cell_type": "code",
   "execution_count": null,
   "metadata": {},
   "outputs": [],
   "source": []
  },
  {
   "cell_type": "markdown",
   "metadata": {},
   "source": [
    "<a id=\"append\"></a>\n",
    "\n",
    "## Appendix\n",
    "\n",
    "<a href=\"#top\">Back to Top</a>"
   ]
  },
  {
   "cell_type": "code",
   "execution_count": null,
   "metadata": {},
   "outputs": [],
   "source": []
  },
  {
   "cell_type": "code",
   "execution_count": null,
   "metadata": {},
   "outputs": [],
   "source": []
  },
  {
   "cell_type": "code",
   "execution_count": null,
   "metadata": {},
   "outputs": [],
   "source": []
  },
  {
   "cell_type": "code",
   "execution_count": null,
   "metadata": {},
   "outputs": [],
   "source": []
  },
  {
   "cell_type": "code",
   "execution_count": null,
   "metadata": {},
   "outputs": [],
   "source": []
  },
  {
   "cell_type": "code",
   "execution_count": null,
   "metadata": {},
   "outputs": [],
   "source": []
  },
  {
   "cell_type": "code",
   "execution_count": null,
   "metadata": {},
   "outputs": [],
   "source": []
  },
  {
   "cell_type": "code",
   "execution_count": null,
   "metadata": {},
   "outputs": [],
   "source": []
  },
  {
   "cell_type": "code",
   "execution_count": null,
   "metadata": {},
   "outputs": [],
   "source": []
  },
  {
   "cell_type": "code",
   "execution_count": null,
   "metadata": {},
   "outputs": [],
   "source": []
  }
 ],
 "metadata": {
  "kernelspec": {
   "display_name": "Python 3",
   "language": "python",
   "name": "python3"
  },
  "language_info": {
   "codemirror_mode": {
    "name": "ipython",
    "version": 3
   },
   "file_extension": ".py",
   "mimetype": "text/x-python",
   "name": "python",
   "nbconvert_exporter": "python",
   "pygments_lexer": "ipython3",
   "version": "3.7.5"
  }
 },
 "nbformat": 4,
 "nbformat_minor": 4
}
